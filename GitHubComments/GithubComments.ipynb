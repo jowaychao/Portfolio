{
 "cells": [
  {
   "cell_type": "code",
   "execution_count": 404,
   "metadata": {},
   "outputs": [
    {
     "name": "stderr",
     "output_type": "stream",
     "text": [
      "[nltk_data] Downloading package wordnet to\n",
      "[nltk_data]     C:\\Users\\JChaotogo\\AppData\\Roaming\\nltk_data...\n",
      "[nltk_data]   Package wordnet is already up-to-date!\n"
     ]
    }
   ],
   "source": [
    "#Standard Imports\n",
    "import pandas as pd\n",
    "pd.set_option('display.max_colwidth', -1)\n",
    "import numpy as np\n",
    "import datetime\n",
    "import time\n",
    "import re\n",
    "import pickle\n",
    "#Plotting Libraries\n",
    "%matplotlib inline\n",
    "import matplotlib.pyplot as plt\n",
    "import seaborn as sns\n",
    "sns.set_style('whitegrid')\n",
    "#NLP text parsing libraries\n",
    "import spacy\n",
    "nlp = spacy.load('en')\n",
    "from spacy.lang.en.stop_words import STOP_WORDS\n",
    "import nltk\n",
    "nltk.download('wordnet')\n",
    "from nltk.corpus import wordnet as wn\n",
    "from nltk.stem.wordnet import WordNetLemmatizer\n",
    "#Gensim Models for Topic Clustering\n",
    "import gensim\n",
    "from gensim.models.ldamodel import LdaModel\n",
    "from gensim.models import CoherenceModel, Word2Vec\n",
    "from gensim import corpora\n",
    "import pyLDAvis.gensim"
   ]
  },
  {
   "cell_type": "markdown",
   "metadata": {},
   "source": [
    "# The Data\n",
    "\n",
    "You are given the dataset ‘github_comments.tsv’ that carries 4000 comments that were published on pull requests on Github by developer teams.\n",
    "\n",
    "**Comment:** the comment made by a developer on the pull request.  \n",
    "**Comment_date:** date at which the comment was published  \n",
    "**Is_merged:** shows whether the pull request on which the comment was made has been accepted or rejected.  \n",
    "**Merged_at:** date at which the pull request was merged (if accepted).   \n",
    "**Request_changes:** each comment is labelled either 1 or 0: if it’s labelled as 1 if the comment is a request for change in the code. If not, it’s labelled as 0.  \n",
    "\n",
    "**Note:** I saved 2 of my models as .pkl files in the same directory."
   ]
  },
  {
   "cell_type": "code",
   "execution_count": 405,
   "metadata": {
    "scrolled": true
   },
   "outputs": [
    {
     "data": {
      "text/html": [
       "<div>\n",
       "<style scoped>\n",
       "    .dataframe tbody tr th:only-of-type {\n",
       "        vertical-align: middle;\n",
       "    }\n",
       "\n",
       "    .dataframe tbody tr th {\n",
       "        vertical-align: top;\n",
       "    }\n",
       "\n",
       "    .dataframe thead th {\n",
       "        text-align: right;\n",
       "    }\n",
       "</style>\n",
       "<table border=\"1\" class=\"dataframe\">\n",
       "  <thead>\n",
       "    <tr style=\"text-align: right;\">\n",
       "      <th></th>\n",
       "      <th>comment</th>\n",
       "      <th>comment_date</th>\n",
       "      <th>is_merged</th>\n",
       "      <th>merged_at</th>\n",
       "      <th>request_changes</th>\n",
       "    </tr>\n",
       "  </thead>\n",
       "  <tbody>\n",
       "    <tr>\n",
       "      <th>0</th>\n",
       "      <td>@chef/maintainers</td>\n",
       "      <td>2017-05-29 10:54:23</td>\n",
       "      <td>0.0</td>\n",
       "      <td>NaN</td>\n",
       "      <td>0</td>\n",
       "    </tr>\n",
       "    <tr>\n",
       "      <th>1</th>\n",
       "      <td>omnibus builds are already in pain so merging to fix those</td>\n",
       "      <td>2017-05-25 20:34:45</td>\n",
       "      <td>1.0</td>\n",
       "      <td>2017-05-25 20:34:27</td>\n",
       "      <td>0</td>\n",
       "    </tr>\n",
       "    <tr>\n",
       "      <th>2</th>\n",
       "      <td>@chef/client-core reviewage (lets not think too hard about the breakpoint resource itself, i just picked it because its the shortest bit of provider code out there)</td>\n",
       "      <td>2017-05-25 17:21:56</td>\n",
       "      <td>1.0</td>\n",
       "      <td>2017-05-25 19:05:10</td>\n",
       "      <td>0</td>\n",
       "    </tr>\n",
       "    <tr>\n",
       "      <th>3</th>\n",
       "      <td>This blows up 14.04 because allow-downgrades is not supported there, so you'll need to figure out the first versions of ubuntu and debian that can safely support this and conditionally add the flag</td>\n",
       "      <td>2017-05-25 19:15:14</td>\n",
       "      <td>0.0</td>\n",
       "      <td>NaN</td>\n",
       "      <td>1</td>\n",
       "    </tr>\n",
       "    <tr>\n",
       "      <th>4</th>\n",
       "      <td>I know @lamont-granquist and @thommay  are going to be unhappy about this one. This is absolutely a short term fix until we get choco on the windows jenkins nodes like it was before our system failure.</td>\n",
       "      <td>2017-05-23 22:58:13</td>\n",
       "      <td>1.0</td>\n",
       "      <td>2017-05-24 04:40:42</td>\n",
       "      <td>0</td>\n",
       "    </tr>\n",
       "  </tbody>\n",
       "</table>\n",
       "</div>"
      ],
      "text/plain": [
       "                                                                                                                                                                                                     comment  \\\n",
       "0  @chef/maintainers                                                                                                                                                                                           \n",
       "1  omnibus builds are already in pain so merging to fix those                                                                                                                                                  \n",
       "2  @chef/client-core reviewage (lets not think too hard about the breakpoint resource itself, i just picked it because its the shortest bit of provider code out there)                                        \n",
       "3  This blows up 14.04 because allow-downgrades is not supported there, so you'll need to figure out the first versions of ubuntu and debian that can safely support this and conditionally add the flag       \n",
       "4  I know @lamont-granquist and @thommay  are going to be unhappy about this one. This is absolutely a short term fix until we get choco on the windows jenkins nodes like it was before our system failure.   \n",
       "\n",
       "          comment_date  is_merged            merged_at  request_changes  \n",
       "0  2017-05-29 10:54:23  0.0        NaN                  0                \n",
       "1  2017-05-25 20:34:45  1.0        2017-05-25 20:34:27  0                \n",
       "2  2017-05-25 17:21:56  1.0        2017-05-25 19:05:10  0                \n",
       "3  2017-05-25 19:15:14  0.0        NaN                  1                \n",
       "4  2017-05-23 22:58:13  1.0        2017-05-24 04:40:42  0                "
      ]
     },
     "execution_count": 405,
     "metadata": {},
     "output_type": "execute_result"
    }
   ],
   "source": [
    "#Read in the .tsv file with pandas.\n",
    "df = pd.read_csv('github_comments.tsv', sep='\\t', index_col=0)\n",
    "df.head()"
   ]
  },
  {
   "cell_type": "markdown",
   "metadata": {},
   "source": [
    "# Text Cleaning\n",
    "**Goal:** Determine the nature of the data and clean out characters and words that do not contribute to the semantics of the comment."
   ]
  },
  {
   "cell_type": "code",
   "execution_count": 406,
   "metadata": {},
   "outputs": [
    {
     "data": {
      "text/plain": [
       "comment            object \n",
       "comment_date       object \n",
       "is_merged          float64\n",
       "merged_at          object \n",
       "request_changes    int64  \n",
       "dtype: object"
      ]
     },
     "execution_count": 406,
     "metadata": {},
     "output_type": "execute_result"
    }
   ],
   "source": [
    "df.dtypes"
   ]
  },
  {
   "cell_type": "code",
   "execution_count": 407,
   "metadata": {},
   "outputs": [],
   "source": [
    "parser = spacy.lang.en.English()\n",
    "\n",
    "\n",
    "def tokenize(comments):\n",
    "    token_list = []\n",
    "    tokens = parser(comments) #Parse the comments with Spacy\n",
    "    for token in tokens:\n",
    "        if token.like_url:\n",
    "            continue #filter out urls\n",
    "        elif token.orth_.startswith('@'):\n",
    "            continue #filter out mentions because they provide no semantic value to topic modelling.\n",
    "        elif token.orth_.isspace():\n",
    "            continue\n",
    "        elif re.match('^[0-9].+[0-9]$', str(token)):\n",
    "            continue\n",
    "        else:\n",
    "            token_list.append(token.lower_)\n",
    "    return token_list\n",
    "\n",
    "\n",
    "def get_lemma(token): #I'm using the WordNet dictionary from NLTK to lemmatize words.\n",
    "    lemma = wn.morphy(token)\n",
    "    if lemma is None:\n",
    "        return token\n",
    "    else:\n",
    "        return lemma\n",
    "\n",
    "\n",
    "def process_text(comments): #Lemmatize, remove stop words and tokens smaller than 3 characters.\n",
    "    tokens = tokenize(comments)\n",
    "    tokens = [token for token in tokens if token not in STOP_WORDS]\n",
    "    tokens = [token for token in tokens if len(token)>3]\n",
    "    tokens = [get_lemma(token) for token in tokens]\n",
    "    return tokens"
   ]
  },
  {
   "cell_type": "code",
   "execution_count": 408,
   "metadata": {},
   "outputs": [
    {
     "name": "stdout",
     "output_type": "stream",
     "text": [
      "Tokenizing text took 77.8959527015686 seconds\n"
     ]
    }
   ],
   "source": [
    "start = time.time()\n",
    "df['tokenized'] = df.comment.apply(lambda x: process_text(x))\n",
    "print(f'Tokenizing text took {time.time()-start} seconds')"
   ]
  },
  {
   "cell_type": "code",
   "execution_count": 409,
   "metadata": {
    "scrolled": false
   },
   "outputs": [
    {
     "data": {
      "text/html": [
       "<div>\n",
       "<style scoped>\n",
       "    .dataframe tbody tr th:only-of-type {\n",
       "        vertical-align: middle;\n",
       "    }\n",
       "\n",
       "    .dataframe tbody tr th {\n",
       "        vertical-align: top;\n",
       "    }\n",
       "\n",
       "    .dataframe thead th {\n",
       "        text-align: right;\n",
       "    }\n",
       "</style>\n",
       "<table border=\"1\" class=\"dataframe\">\n",
       "  <thead>\n",
       "    <tr style=\"text-align: right;\">\n",
       "      <th></th>\n",
       "      <th>comment</th>\n",
       "      <th>comment_date</th>\n",
       "      <th>is_merged</th>\n",
       "      <th>merged_at</th>\n",
       "      <th>request_changes</th>\n",
       "      <th>tokenized</th>\n",
       "    </tr>\n",
       "  </thead>\n",
       "  <tbody>\n",
       "    <tr>\n",
       "      <th>0</th>\n",
       "      <td>@chef/maintainers</td>\n",
       "      <td>2017-05-29 10:54:23</td>\n",
       "      <td>0.0</td>\n",
       "      <td>NaN</td>\n",
       "      <td>0</td>\n",
       "      <td>[maintainer]</td>\n",
       "    </tr>\n",
       "    <tr>\n",
       "      <th>1</th>\n",
       "      <td>omnibus builds are already in pain so merging to fix those</td>\n",
       "      <td>2017-05-25 20:34:45</td>\n",
       "      <td>1.0</td>\n",
       "      <td>2017-05-25 20:34:27</td>\n",
       "      <td>0</td>\n",
       "      <td>[omnibus, build, pain, merging]</td>\n",
       "    </tr>\n",
       "    <tr>\n",
       "      <th>2</th>\n",
       "      <td>@chef/client-core reviewage (lets not think too hard about the breakpoint resource itself, i just picked it because its the shortest bit of provider code out there)</td>\n",
       "      <td>2017-05-25 17:21:56</td>\n",
       "      <td>1.0</td>\n",
       "      <td>2017-05-25 19:05:10</td>\n",
       "      <td>0</td>\n",
       "      <td>[client, core, reviewage, let, think, hard, breakpoint, resource, pick, short, provider, code]</td>\n",
       "    </tr>\n",
       "    <tr>\n",
       "      <th>3</th>\n",
       "      <td>This blows up 14.04 because allow-downgrades is not supported there, so you'll need to figure out the first versions of ubuntu and debian that can safely support this and conditionally add the flag</td>\n",
       "      <td>2017-05-25 19:15:14</td>\n",
       "      <td>0.0</td>\n",
       "      <td>NaN</td>\n",
       "      <td>1</td>\n",
       "      <td>[blow, allow, downgrade, support, need, figure, version, ubuntu, debian, safely, support, conditionally, flag]</td>\n",
       "    </tr>\n",
       "    <tr>\n",
       "      <th>4</th>\n",
       "      <td>I know @lamont-granquist and @thommay  are going to be unhappy about this one. This is absolutely a short term fix until we get choco on the windows jenkins nodes like it was before our system failure.</td>\n",
       "      <td>2017-05-23 22:58:13</td>\n",
       "      <td>1.0</td>\n",
       "      <td>2017-05-24 04:40:42</td>\n",
       "      <td>0</td>\n",
       "      <td>[know, granquist, going, unhappy, absolutely, short, term, choco, windows, jenkins, node, like, system, failure]</td>\n",
       "    </tr>\n",
       "  </tbody>\n",
       "</table>\n",
       "</div>"
      ],
      "text/plain": [
       "                                                                                                                                                                                                     comment  \\\n",
       "0  @chef/maintainers                                                                                                                                                                                           \n",
       "1  omnibus builds are already in pain so merging to fix those                                                                                                                                                  \n",
       "2  @chef/client-core reviewage (lets not think too hard about the breakpoint resource itself, i just picked it because its the shortest bit of provider code out there)                                        \n",
       "3  This blows up 14.04 because allow-downgrades is not supported there, so you'll need to figure out the first versions of ubuntu and debian that can safely support this and conditionally add the flag       \n",
       "4  I know @lamont-granquist and @thommay  are going to be unhappy about this one. This is absolutely a short term fix until we get choco on the windows jenkins nodes like it was before our system failure.   \n",
       "\n",
       "          comment_date  is_merged            merged_at  request_changes  \\\n",
       "0  2017-05-29 10:54:23  0.0        NaN                  0                 \n",
       "1  2017-05-25 20:34:45  1.0        2017-05-25 20:34:27  0                 \n",
       "2  2017-05-25 17:21:56  1.0        2017-05-25 19:05:10  0                 \n",
       "3  2017-05-25 19:15:14  0.0        NaN                  1                 \n",
       "4  2017-05-23 22:58:13  1.0        2017-05-24 04:40:42  0                 \n",
       "\n",
       "                                                                                                          tokenized  \n",
       "0  [maintainer]                                                                                                      \n",
       "1  [omnibus, build, pain, merging]                                                                                   \n",
       "2  [client, core, reviewage, let, think, hard, breakpoint, resource, pick, short, provider, code]                    \n",
       "3  [blow, allow, downgrade, support, need, figure, version, ubuntu, debian, safely, support, conditionally, flag]    \n",
       "4  [know, granquist, going, unhappy, absolutely, short, term, choco, windows, jenkins, node, like, system, failure]  "
      ]
     },
     "execution_count": 409,
     "metadata": {},
     "output_type": "execute_result"
    }
   ],
   "source": [
    "df.head()"
   ]
  },
  {
   "cell_type": "code",
   "execution_count": 410,
   "metadata": {
    "scrolled": false
   },
   "outputs": [],
   "source": [
    "df['tokenized_length'] = df.tokenized.apply(lambda x: len(x))\n",
    "data = df[df.tokenized_length > 1] #Remove comments with 0-1 tokens. They provide little to no semantic value."
   ]
  },
  {
   "cell_type": "code",
   "execution_count": 411,
   "metadata": {
    "scrolled": false
   },
   "outputs": [
    {
     "data": {
      "image/png": "[encoded data removed]",
      "text/plain": [
       "<Figure size 1080x504 with 1 Axes>"
      ]
     },
     "metadata": {},
     "output_type": "display_data"
    }
   ],
   "source": [
    "plt.figure(figsize=(15,7))\n",
    "sns.distplot(data.tokenized.apply(lambda x: len(x)))\n",
    "plt.xlabel('Length')\n",
    "plt.xlim(0,150)\n",
    "plt.title('Length Distribution of Tokenized Comments')\n",
    "plt.show()"
   ]
  },
  {
   "cell_type": "code",
   "execution_count": 412,
   "metadata": {},
   "outputs": [
    {
     "data": {
      "text/html": [
       "<div>\n",
       "<style scoped>\n",
       "    .dataframe tbody tr th:only-of-type {\n",
       "        vertical-align: middle;\n",
       "    }\n",
       "\n",
       "    .dataframe tbody tr th {\n",
       "        vertical-align: top;\n",
       "    }\n",
       "\n",
       "    .dataframe thead th {\n",
       "        text-align: right;\n",
       "    }\n",
       "</style>\n",
       "<table border=\"1\" class=\"dataframe\">\n",
       "  <thead>\n",
       "    <tr style=\"text-align: right;\">\n",
       "      <th></th>\n",
       "      <th>tokenized_length</th>\n",
       "    </tr>\n",
       "  </thead>\n",
       "  <tbody>\n",
       "    <tr>\n",
       "      <th>count</th>\n",
       "      <td>3576.000000</td>\n",
       "    </tr>\n",
       "    <tr>\n",
       "      <th>mean</th>\n",
       "      <td>13.613255</td>\n",
       "    </tr>\n",
       "    <tr>\n",
       "      <th>std</th>\n",
       "      <td>21.669921</td>\n",
       "    </tr>\n",
       "    <tr>\n",
       "      <th>min</th>\n",
       "      <td>2.000000</td>\n",
       "    </tr>\n",
       "    <tr>\n",
       "      <th>25%</th>\n",
       "      <td>3.000000</td>\n",
       "    </tr>\n",
       "    <tr>\n",
       "      <th>50%</th>\n",
       "      <td>8.000000</td>\n",
       "    </tr>\n",
       "    <tr>\n",
       "      <th>75%</th>\n",
       "      <td>15.000000</td>\n",
       "    </tr>\n",
       "    <tr>\n",
       "      <th>max</th>\n",
       "      <td>595.000000</td>\n",
       "    </tr>\n",
       "  </tbody>\n",
       "</table>\n",
       "</div>"
      ],
      "text/plain": [
       "       tokenized_length\n",
       "count  3576.000000     \n",
       "mean   13.613255       \n",
       "std    21.669921       \n",
       "min    2.000000        \n",
       "25%    3.000000        \n",
       "50%    8.000000        \n",
       "75%    15.000000       \n",
       "max    595.000000      "
      ]
     },
     "execution_count": 412,
     "metadata": {},
     "output_type": "execute_result"
    }
   ],
   "source": [
    "data[['tokenized_length']].describe()"
   ]
  },
  {
   "cell_type": "markdown",
   "metadata": {},
   "source": [
    "The mean length of tokenized comments is only 13.6 tokens, but there are comments with up to 595 tokens. After inspecting them, I found them to be links and error reports."
   ]
  },
  {
   "cell_type": "markdown",
   "metadata": {},
   "source": [
    "# Topic Identification  \n",
    "**Goal:** Identify Topics by using the gensim implementation of Latent Dirchlet Allocation (LDA)."
   ]
  },
  {
   "cell_type": "code",
   "execution_count": 413,
   "metadata": {
    "scrolled": true
   },
   "outputs": [],
   "source": [
    "#Create the Bag of Words to be used for the dataframe more than 1 token as well as a dictionary that maps words to values.\n",
    "dictionary = corpora.Dictionary(data.tokenized)\n",
    "corpus = [dictionary.doc2bow(words) for words in data.tokenized]"
   ]
  },
  {
   "cell_type": "markdown",
   "metadata": {},
   "source": [
    "##### Evaluating Topics by Coherence Score\n",
    "We can get an idea for the optimal number of topics in the comments by running many different models and evaluating their coherence scores. Coherence scores are the sum of pairwise scores between words in a topic. A higher score means the words in the topic are more meaningfully descriptive."
   ]
  },
  {
   "cell_type": "code",
   "execution_count": 414,
   "metadata": {},
   "outputs": [],
   "source": [
    "#Create models and corresponding coherence values.\n",
    "def get_coherence(start, finish, step):\n",
    "    coherence_values = []\n",
    "    model_list = []\n",
    "    for topics in range(start, finish, step):\n",
    "        model = LdaModel(corpus, num_topics=topics, id2word=dictionary, passes=15)\n",
    "        model_list.append(model)\n",
    "        Cmodel = CoherenceModel(model=model,texts=data.tokenized, dictionary=dictionary, coherence='c_v')\n",
    "        coherence_values.append(Cmodel.get_coherence())\n",
    "        \n",
    "    return model_list, coherence_values\n",
    "\n",
    "model_list, coherence_values = get_coherence(2,12,2)"
   ]
  },
  {
   "cell_type": "code",
   "execution_count": 415,
   "metadata": {
    "scrolled": true
   },
   "outputs": [
    {
     "data": {
      "text/plain": [
       "[0.4516620404129923,\n",
       " 0.42149600572488355,\n",
       " 0.41230444419719237,\n",
       " 0.39189583785941473,\n",
       " 0.4483774684221017]"
      ]
     },
     "execution_count": 415,
     "metadata": {},
     "output_type": "execute_result"
    }
   ],
   "source": [
    "coherence_values"
   ]
  },
  {
   "cell_type": "code",
   "execution_count": 416,
   "metadata": {},
   "outputs": [],
   "source": [
    "#Save the model with 4 topics for consistency.\n",
    "with open ('Final_LDA_model.pkl', 'wb') as f:\n",
    "    pickle.dump(model_list[1], f)\n",
    "    f.close()"
   ]
  },
  {
   "cell_type": "markdown",
   "metadata": {},
   "source": [
    "The pyLDAvis library allows us to create great visualizations on the topics from the ldamodel. The visualization also allows us to change the lamda value to weigh lower frequency words higher. In addition, the visualization allows us to visualize how close certain topic clusters are to each other. From the coherence values above, we can see that model_list[1] with 4 topics has the highest corresponding coherence value. Let's use pyLDAvis to visualize it. I also tried to use 12 topics, but there was a lot of overlap and I decided to revert back to 4 topics."
   ]
  },
  {
   "cell_type": "code",
   "execution_count": 417,
   "metadata": {
    "scrolled": false
   },
   "outputs": [
    {
     "data": {
      "text/html": [
       "\n",
       "<link rel=\"stylesheet\" type=\"text/css\" href=\"https://cdn.rawgit.com/bmabey/pyLDAvis/files/ldavis.v1.0.0.css\">\n",
       "\n",
       "\n",
       "<div id=\"ldavis_el3346425121148068561038443200\"></div>\n",
       "<script type=\"text/javascript\">\n",
       "\n",
       "var ldavis_el3346425121148068561038443200_data = {\"mdsDat\": {\"x\": [0.00731351721754441, -0.1926839288056183, 0.07854778522733075, 0.10682262636074327], \"y\": [0.11277696815911016, -0.025108819459672856, -0.13093193327790117, 0.043263784578463964], \"topics\": [1, 2, 3, 4], \"cluster\": [1, 1, 1, 1], \"Freq\": [33.78988265991211, 23.490007400512695, 22.650529861450195, 20.069581985473633]}, \"tinfo\": {\"Category\": [\"Default\", \"Default\", \"Default\", \"Default\", \"Default\", \"Default\", \"Default\", \"Default\", \"Default\", \"Default\", \"Default\", \"Default\", \"Default\", \"Default\", \"Default\", \"Default\", \"Default\", \"Default\", \"Default\", \"Default\", \"Default\", \"Default\", \"Default\", \"Default\", \"Default\", \"Default\", \"Default\", \"Default\", \"Default\", \"Default\", \"Topic1\", \"Topic1\", \"Topic1\", \"Topic1\", \"Topic1\", \"Topic1\", \"Topic1\", \"Topic1\", \"Topic1\", \"Topic1\", \"Topic1\", \"Topic1\", \"Topic1\", \"Topic1\", \"Topic1\", \"Topic1\", \"Topic1\", \"Topic1\", \"Topic1\", \"Topic1\", \"Topic1\", \"Topic1\", \"Topic1\", \"Topic1\", \"Topic1\", \"Topic1\", \"Topic1\", \"Topic1\", \"Topic1\", \"Topic1\", \"Topic1\", \"Topic1\", \"Topic1\", \"Topic1\", \"Topic1\", \"Topic1\", \"Topic1\", \"Topic1\", \"Topic1\", \"Topic1\", \"Topic1\", \"Topic1\", \"Topic1\", \"Topic1\", \"Topic1\", \"Topic1\", \"Topic1\", \"Topic1\", \"Topic1\", \"Topic1\", \"Topic1\", \"Topic1\", \"Topic1\", \"Topic1\", \"Topic1\", \"Topic1\", \"Topic1\", \"Topic1\", \"Topic1\", \"Topic1\", \"Topic1\", \"Topic1\", \"Topic1\", \"Topic1\", \"Topic1\", \"Topic1\", \"Topic1\", \"Topic1\", \"Topic1\", \"Topic1\", \"Topic2\", \"Topic2\", \"Topic2\", \"Topic2\", \"Topic2\", \"Topic2\", \"Topic2\", \"Topic2\", \"Topic2\", \"Topic2\", \"Topic2\", \"Topic2\", \"Topic2\", \"Topic2\", \"Topic2\", \"Topic2\", \"Topic2\", \"Topic2\", \"Topic2\", \"Topic2\", \"Topic2\", \"Topic2\", \"Topic2\", \"Topic2\", \"Topic2\", \"Topic2\", \"Topic2\", \"Topic2\", \"Topic2\", \"Topic2\", \"Topic2\", \"Topic2\", \"Topic2\", \"Topic2\", \"Topic2\", \"Topic2\", \"Topic2\", \"Topic2\", \"Topic2\", \"Topic2\", \"Topic2\", \"Topic2\", \"Topic2\", \"Topic2\", \"Topic2\", \"Topic2\", \"Topic2\", \"Topic2\", \"Topic2\", \"Topic2\", \"Topic2\", \"Topic2\", \"Topic2\", \"Topic2\", \"Topic2\", \"Topic2\", \"Topic2\", \"Topic2\", \"Topic2\", \"Topic2\", \"Topic2\", \"Topic2\", \"Topic2\", \"Topic2\", \"Topic2\", \"Topic3\", \"Topic3\", \"Topic3\", \"Topic3\", \"Topic3\", \"Topic3\", \"Topic3\", \"Topic3\", \"Topic3\", \"Topic3\", \"Topic3\", \"Topic3\", \"Topic3\", \"Topic3\", \"Topic3\", \"Topic3\", \"Topic3\", \"Topic3\", \"Topic3\", \"Topic3\", \"Topic3\", \"Topic3\", \"Topic3\", \"Topic3\", \"Topic3\", \"Topic3\", \"Topic3\", \"Topic3\", \"Topic3\", \"Topic3\", \"Topic3\", \"Topic3\", \"Topic3\", \"Topic3\", \"Topic3\", \"Topic3\", \"Topic3\", \"Topic3\", \"Topic3\", \"Topic3\", \"Topic3\", \"Topic3\", \"Topic3\", \"Topic3\", \"Topic3\", \"Topic3\", \"Topic3\", \"Topic3\", \"Topic3\", \"Topic3\", \"Topic3\", \"Topic3\", \"Topic3\", \"Topic3\", \"Topic3\", \"Topic3\", \"Topic3\", \"Topic3\", \"Topic3\", \"Topic3\", \"Topic3\", \"Topic3\", \"Topic3\", \"Topic3\", \"Topic3\", \"Topic3\", \"Topic3\", \"Topic3\", \"Topic3\", \"Topic3\", \"Topic3\", \"Topic3\", \"Topic4\", \"Topic4\", \"Topic4\", \"Topic4\", \"Topic4\", \"Topic4\", \"Topic4\", \"Topic4\", \"Topic4\", \"Topic4\", \"Topic4\", \"Topic4\", \"Topic4\", \"Topic4\", \"Topic4\", \"Topic4\", \"Topic4\", \"Topic4\", \"Topic4\", \"Topic4\", \"Topic4\", \"Topic4\", \"Topic4\", \"Topic4\", \"Topic4\", \"Topic4\", \"Topic4\", \"Topic4\", \"Topic4\", \"Topic4\", \"Topic4\", \"Topic4\", \"Topic4\", \"Topic4\", \"Topic4\", \"Topic4\", \"Topic4\", \"Topic4\", \"Topic4\", \"Topic4\", \"Topic4\", \"Topic4\", \"Topic4\", \"Topic4\", \"Topic4\", \"Topic4\", \"Topic4\", \"Topic4\", \"Topic4\", \"Topic4\", \"Topic4\", \"Topic4\", \"Topic4\", \"Topic4\", \"Topic4\", \"Topic4\", \"Topic4\", \"Topic4\", \"Topic4\", \"Topic4\", \"Topic4\", \"Topic4\", \"Topic4\", \"Topic4\", \"Topic4\", \"Topic4\", \"Topic4\", \"Topic4\", \"Topic4\", \"Topic4\", \"Topic4\", \"Topic4\", \"Topic4\"], \"Freq\": [500.0, 714.0, 282.0, 404.0, 193.0, 152.0, 109.0, 100.0, 131.0, 168.0, 134.0, 102.0, 65.0, 106.0, 297.0, 233.0, 69.0, 106.0, 95.0, 164.0, 223.0, 83.0, 83.0, 162.0, 84.0, 83.0, 64.0, 77.0, 255.0, 177.0, 101.80005645751953, 82.59770965576172, 76.88555145263672, 59.793312072753906, 43.27827453613281, 46.26842498779297, 37.2570686340332, 36.13713455200195, 93.92350769042969, 30.779449462890625, 22.753129959106445, 21.45043182373047, 20.896398544311523, 34.373268127441406, 18.285512924194336, 17.445083618164062, 23.61497688293457, 16.203079223632812, 15.752900123596191, 14.896698951721191, 14.664183616638184, 14.121148109436035, 13.512466430664062, 13.177043914794922, 12.65884780883789, 12.654003143310547, 12.358065605163574, 12.56385612487793, 12.422696113586426, 11.81640338897705, 27.784347534179688, 14.989821434020996, 26.80765151977539, 44.3565788269043, 144.71507263183594, 32.725521087646484, 67.29341888427734, 24.373769760131836, 61.46514129638672, 74.21084594726562, 129.42996215820312, 119.17337799072266, 101.37969970703125, 95.82074737548828, 47.44997787475586, 37.53903579711914, 30.122644424438477, 53.56365966796875, 221.4493408203125, 55.82283401489258, 113.1534194946289, 85.09317779541016, 187.66810607910156, 75.48854064941406, 138.4359130859375, 171.9065399169922, 194.41725158691406, 98.24591827392578, 93.80599975585938, 97.12371063232422, 65.19799041748047, 132.4821319580078, 91.46222686767578, 97.00977325439453, 70.82746887207031, 90.7677001953125, 80.13688659667969, 68.26583099365234, 70.28105926513672, 68.08854675292969, 100.02262878417969, 68.41203308105469, 495.5308837890625, 149.64556884765625, 27.189477920532227, 17.633785247802734, 14.745037078857422, 14.81661605834961, 15.36674976348877, 14.224295616149902, 12.513354301452637, 12.020401000976562, 12.01836109161377, 12.223916053771973, 27.708101272583008, 11.352118492126465, 11.675790786743164, 10.473714828491211, 11.208003044128418, 9.968520164489746, 60.638916015625, 9.0023193359375, 21.276927947998047, 179.7183074951172, 8.906246185302734, 8.4906587600708, 14.468107223510742, 7.891502857208252, 8.280144691467285, 7.947432994842529, 55.34712600708008, 14.600506782531738, 117.01463317871094, 23.015155792236328, 586.8926391601562, 73.84736633300781, 35.835872650146484, 63.4653205871582, 43.126007080078125, 79.49103546142578, 52.2218132019043, 80.32695007324219, 19.499786376953125, 25.358062744140625, 32.793617248535156, 66.05899810791016, 120.1463851928711, 182.87220764160156, 55.36940002441406, 30.560937881469727, 49.60036849975586, 30.868452072143555, 48.77590560913086, 94.3538589477539, 122.06454467773438, 39.62419509887695, 70.49137115478516, 43.362998962402344, 44.70218276977539, 58.86865997314453, 55.69157791137695, 76.26860046386719, 43.93671798706055, 50.03569030761719, 50.21244812011719, 39.339683532714844, 32.53641128540039, 26.694843292236328, 16.114660263061523, 16.28488540649414, 34.27208709716797, 39.416969299316406, 14.213376998901367, 13.960587501525879, 13.68257999420166, 13.9273099899292, 13.30251693725586, 11.791641235351562, 12.495138168334961, 11.743856430053711, 10.894632339477539, 11.720027923583984, 10.45087718963623, 9.887572288513184, 22.018245697021484, 9.186195373535156, 8.99325942993164, 33.08930969238281, 8.72734260559082, 8.542092323303223, 8.115818977355957, 9.69221305847168, 7.75157356262207, 7.742002010345459, 7.726781368255615, 8.484020233154297, 36.09197235107422, 90.87739562988281, 10.855533599853516, 43.2141227722168, 20.47114372253418, 224.84791564941406, 68.78387451171875, 31.809364318847656, 14.865172386169434, 28.189592361450195, 53.2359619140625, 31.8009033203125, 92.28089904785156, 32.83216094970703, 54.511226654052734, 45.89471435546875, 131.7597198486328, 100.20510864257812, 60.7973518371582, 65.6226577758789, 56.45024490356445, 146.06060791015625, 203.18167114257812, 48.77731704711914, 54.073631286621094, 78.97378540039062, 62.42854690551758, 81.95145416259766, 140.3275146484375, 83.59529113769531, 91.0619888305664, 75.24411010742188, 110.06170654296875, 106.72636413574219, 60.288265228271484, 75.90966033935547, 70.95087432861328, 54.6053352355957, 78.7693099975586, 49.72268295288086, 50.517486572265625, 65.26786804199219, 19.4166259765625, 18.354032516479492, 16.180025100708008, 15.633597373962402, 102.90059661865234, 12.838227272033691, 13.292144775390625, 11.150296211242676, 11.384223937988281, 10.769314765930176, 9.72929859161377, 29.472721099853516, 9.472597122192383, 9.037851333618164, 9.43954086303711, 8.669136047363281, 8.388361930847168, 7.606667518615723, 7.600793838500977, 8.176243782043457, 7.5899977684021, 7.3525776863098145, 7.755555152893066, 9.536579132080078, 6.73109769821167, 6.8958845138549805, 6.549863338470459, 7.621493339538574, 6.638984203338623, 24.04646110534668, 22.53881072998047, 22.506088256835938, 62.56305694580078, 20.792190551757812, 14.19631576538086, 15.903421401977539, 21.696182250976562, 53.08988571166992, 80.84858703613281, 45.46691131591797, 34.23503494262695, 26.66502571105957, 32.106693267822266, 25.784168243408203, 81.50389099121094, 25.88545036315918, 103.41204071044922, 97.30706787109375, 59.31760787963867, 37.706207275390625, 91.57152557373047, 27.92896270751953, 26.512266159057617, 49.5496940612793, 98.46900177001953, 47.0220832824707, 85.14431762695312, 31.739887237548828, 84.51842498779297, 45.71582794189453, 62.36429214477539, 39.372718811035156, 49.36369323730469, 39.800289154052734, 39.984493255615234, 36.01830291748047, 47.278709411621094, 41.081485748291016, 50.17864227294922, 34.74074935913086, 36.12356185913086, 34.71129608154297], \"Term\": [\"merge\", \"thanks\", \"commit\", \"spring\", \"master\", \"hibernate\", \"nice\", \"flush\", \"version\", \"project\", \"apply\", \"jenkins\", \"analyzer\", \"push\", \"method\", \"session\", \"dependency\", \"rebased\", \"document\", \"index\", \"class\", \"elasticsearch\", \"sign\", \"comment\", \"search\", \"public\", \"boot\", \"retest\", \"case\", \"maybe\", \"jenkins\", \"sign\", \"retest\", \"license\", \"contributor\", \"metadata\", \"spring?repositoryid\", \"bridges\", \"document\", \"embed\", \"sync\", \"status\", \"section\", \"sessions\", \"manually\", \"constant\", \"snippet\", \"frequently\", \"agreement\", \"restdocs\", \"signing\", \"assure\", \"design\", \"unit\", \"duplicate\", \"suspect\", \"millis\", \"macro\", \"basically\", \"click\", \"details\", \"directory\", \"bridge\", \"container\", \"project\", \"cookie\", \"single\", \"header\", \"fields\", \"documentation\", \"index\", \"implementation\", \"support\", \"field\", \"feel\", \"response\", \"store\", \"place\", \"spring\", \"path\", \"want\", \"request\", \"think\", \"example\", \"like\", \"need\", \"test\", \"create\", \"remove\", \"update\", \"property\", \"change\", \"session\", \"method\", \"user\", \"issue\", \"case\", \"know\", \"type\", \"sure\", \"flush\", \"dependency\", \"merge\", \"hibernate\", \"page\", \"backported\", \"workspace\", \"contribution\", \"spot\", \"synchronization\", \"compile\", \"org.springframework.beans.factory.beancreationexception\", \"/home\", \"image\", \"polish\", \"classpath\", \"early\", \"backporting\", \"sessioncontextholder\", \"older\", \"boot\", \"directorybasedindexmanager\", \"upgrade\", \"master\", \"progress\", \"executor\", \"detect\", \"candidate\", \"repo\", \"pending\", \"branch\", \"submit\", \"version\", \"gradle\", \"thanks\", \"search\", \"failure\", \"exception\", \"plugin\", \"rebased\", \"bean\", \"build\", \"root\", \"operations\", \"maven\", \"error\", \"session\", \"spring\", \"fail\", \"resolve\", \"release\", \"patch\", \"sample\", \"issue\", \"test\", \"start\", \"update\", \"data\", \"java\", \"create\", \"work\", \"change\", \"problem\", \"good\", \"need\", \"validation\", \"jandex\", \"protocol\", \"whitelist\", \"trust\", \"import\", \"private\", \"extractor\", \"admins\", \"massindexer\", \"amend\", \"unwrap\", \"legacy\", \"remain\", \"loop\", \"away\", \"efficient\", \"useless\", \"cascade\", \"builder\", \"regular\", \"semantics\", \"yeah\", \"javadocs\", \"reflection\", \"intellij\", \"calling\", \"hv1184constraint\", \"group3\", \"performstreamoperation\", \"stay\", \"force\", \"push\", \"rework\", \"final\", \"remark\", \"commit\", \"public\", \"number\", \"person\", \"stream\", \"null\", \"collection\", \"apply\", \"consistent\", \"bekhta\", \"constructor\", \"class\", \"comment\", \"string\", \"constraint\", \"order\", \"method\", \"change\", \"list\", \"return\", \"right\", \"parameter\", \"code\", \"test\", \"good\", \"look\", \"type\", \"need\", \"think\", \"fix\", \"add\", \"case\", \"check\", \"thanks\", \"sure\", \"like\", \"analyzer\", \"waiting\", \"prefix\", \"formatting\", \"typo\", \"nice\", \"period\", \"notifications@github.com\", \"proxy\", \"sequence\", \"forceasync\", \"weight\", \"expose\", \"errorhandler\", \"mute\", \"annotate\", \"currency\", \"defining\", \"annotationdef\", \"epub\", \"experimental\", \"mycollection\", \"trick\", \"sake\", \"size\", \"inheritance\", \"yoann\", \"jsoup\", \"integrator\", \"appreciate\", \"email\", \"thread\", \"definition\", \"elasticsearch\", \"domain\", \"earlier\", \"worry\", \"group\", \"miss\", \"default\", \"consider\", \"going\", \"directly\", \"define\", \"later\", \"maybe\", \"e.g.\", \"look\", \"case\", \"annotation\", \"approach\", \"like\", \"jira\", \"message\", \"better\", \"think\", \"value\", \"need\", \"simple\", \"change\", \"user\", \"issue\", \"probably\", \"add\", \"check\", \"know\", \"provide\", \"method\", \"sure\", \"test\", \"configuration\", \"right\", \"work\"], \"Total\": [500.0, 714.0, 282.0, 404.0, 193.0, 152.0, 109.0, 100.0, 131.0, 168.0, 134.0, 102.0, 65.0, 106.0, 297.0, 233.0, 69.0, 106.0, 95.0, 164.0, 223.0, 83.0, 83.0, 162.0, 84.0, 83.0, 64.0, 77.0, 255.0, 177.0, 102.46322631835938, 83.2742691040039, 77.53797912597656, 60.4626579284668, 43.9329833984375, 47.06850814819336, 37.90897750854492, 36.81587600708008, 95.84852600097656, 31.451168060302734, 23.427698135375977, 22.116348266601562, 21.572547912597656, 35.56943893432617, 18.94729995727539, 18.116592407226562, 24.536611557006836, 16.864238739013672, 16.408164978027344, 15.551833152770996, 15.32242488861084, 14.779808044433594, 14.17821216583252, 13.860466957092285, 13.322799682617188, 13.321833610534668, 13.01068115234375, 13.23534107208252, 13.092842102050781, 12.468290328979492, 29.327592849731445, 15.825572967529297, 28.675960540771484, 48.990997314453125, 168.4170379638672, 35.836971282958984, 77.51995849609375, 26.483013153076172, 71.55792999267578, 87.74687957763672, 164.26116943359375, 151.63223266601562, 127.37408447265625, 126.74480438232422, 57.0468635559082, 43.93244171142578, 34.11869812011719, 68.37527465820312, 404.73724365234375, 73.16537475585938, 186.3546905517578, 134.7249298095703, 422.0595703125, 122.2857437133789, 297.72711181640625, 417.32501220703125, 506.98797607421875, 204.1695556640625, 193.6265106201172, 224.87269592285156, 107.62730407714844, 496.4508361816406, 233.41537475585938, 297.234619140625, 137.87600708007812, 291.4642333984375, 255.22021484375, 142.5807342529297, 190.6936492919922, 190.94259643554688, 100.71864318847656, 69.09840393066406, 500.9257507324219, 152.03578186035156, 27.892486572265625, 18.299701690673828, 15.410059928894043, 15.490995407104492, 16.083566665649414, 14.91667366027832, 13.200788497924805, 12.68368148803711, 12.683392524719238, 12.923188209533691, 29.324872970581055, 12.027931213378906, 12.40217399597168, 11.154159545898438, 11.939577102661133, 10.637653350830078, 64.89718627929688, 9.681557655334473, 22.895444869995117, 193.4109649658203, 9.601262092590332, 9.164971351623535, 15.701135635375977, 8.564621925354004, 9.00389575958252, 8.643588066101074, 60.78085708618164, 15.906204223632812, 131.20445251464844, 25.269636154174805, 714.7269287109375, 84.38423919677734, 40.99619674682617, 76.72029113769531, 50.805259704589844, 106.10150909423828, 68.14665985107422, 120.4885482788086, 22.437776565551758, 31.30794906616211, 43.981510162353516, 107.24374389648438, 233.41537475585938, 404.73724365234375, 100.65928649902344, 43.160377502441406, 89.19440460205078, 45.431671142578125, 92.62319946289062, 291.4642333984375, 506.98797607421875, 71.07764434814453, 224.87269592285156, 88.17745971679688, 95.36065673828125, 204.1695556640625, 182.47039794921875, 496.4508361816406, 108.48622131347656, 217.54608154296875, 417.32501220703125, 40.0799560546875, 33.238136291503906, 27.404817581176758, 16.813697814941406, 17.000999450683594, 35.857078552246094, 41.35536193847656, 14.915447235107422, 14.657832145690918, 14.404321670532227, 14.664793014526367, 14.026304244995117, 12.504939079284668, 13.264078140258789, 12.503281593322754, 11.612992286682129, 12.514395713806152, 11.170488357543945, 10.607680320739746, 23.62933921813965, 9.902422904968262, 9.716850280761719, 35.79868698120117, 9.457029342651367, 9.275150299072266, 8.824667930603027, 10.563210487365723, 8.448776245117188, 8.448653221130371, 8.453887939453125, 9.28759479522705, 40.32606887817383, 106.5447998046875, 11.93793773651123, 49.71517562866211, 22.992719650268555, 282.28607177734375, 83.3194580078125, 38.3156852722168, 16.772720336914062, 33.92879867553711, 69.13478088378906, 39.336673736572266, 134.819580078125, 41.10943603515625, 75.44580078125, 62.61153793334961, 223.78057861328125, 162.13833618164062, 91.43118286132812, 102.29460144042969, 87.10771179199219, 297.234619140625, 496.4508361816406, 76.59941864013672, 93.87464141845703, 164.08172607421875, 116.27629852294922, 189.37344360351562, 506.98797607421875, 217.54608154296875, 268.5318603515625, 190.6936492919922, 417.32501220703125, 422.0595703125, 127.43801879882812, 216.5795440673828, 255.22021484375, 137.61248779296875, 714.7269287109375, 190.94259643554688, 297.72711181640625, 65.99089813232422, 20.147207260131836, 19.064077377319336, 16.900426864624023, 16.347431182861328, 109.01282501220703, 13.610182762145996, 14.114943504333496, 11.859834671020508, 12.11426067352295, 11.493040084838867, 10.432263374328613, 31.620237350463867, 10.1798734664917, 9.742393493652344, 10.1852445602417, 9.373637199401855, 9.12448787689209, 8.316184043884277, 8.31643009185791, 8.950166702270508, 8.3165283203125, 8.0633544921875, 8.505450248718262, 10.466639518737793, 7.441019535064697, 7.626198768615723, 7.256231307983398, 8.45421028137207, 7.377742290496826, 26.740154266357422, 25.2423095703125, 27.30571937561035, 83.23834228515625, 25.894180297851562, 17.306913375854492, 19.82276725769043, 29.381591796875, 88.52313232421875, 148.68667602539062, 74.52850341796875, 53.56468963623047, 39.34990310668945, 50.17136001586914, 38.364540100097656, 177.0133056640625, 39.590457916259766, 268.5318603515625, 255.22021484375, 130.5706329345703, 69.02545928955078, 297.72711181640625, 48.03656005859375, 45.35430908203125, 129.6641845703125, 422.0595703125, 130.49493408203125, 417.32501220703125, 62.22001266479492, 496.4508361816406, 137.87600708007812, 291.4642333984375, 111.57361602783203, 216.5795440673828, 137.61248779296875, 142.5807342529297, 104.30669403076172, 297.234619140625, 190.94259643554688, 506.98797607421875, 110.03669738769531, 164.08172607421875, 182.47039794921875], \"loglift\": [30.0, 29.0, 28.0, 27.0, 26.0, 25.0, 24.0, 23.0, 22.0, 21.0, 20.0, 19.0, 18.0, 17.0, 16.0, 15.0, 14.0, 13.0, 12.0, 11.0, 10.0, 9.0, 8.0, 7.0, 6.0, 5.0, 4.0, 3.0, 2.0, 1.0, 1.0785000324249268, 1.0769000053405762, 1.0765999555587769, 1.0738999843597412, 1.0700000524520874, 1.0678999423980713, 1.0677000284194946, 1.0664000511169434, 1.0647000074386597, 1.0634000301361084, 1.055799961090088, 1.0543999671936035, 1.0532000064849854, 1.0507999658584595, 1.0494999885559082, 1.0471999645233154, 1.0467000007629395, 1.0449999570846558, 1.0442999601364136, 1.0420000553131104, 1.041100025177002, 1.0393999814987183, 1.0369000434875488, 1.0343999862670898, 1.0339000225067139, 1.0335999727249146, 1.0334999561309814, 1.0328999757766724, 1.0325000286102295, 1.0312999486923218, 1.031000018119812, 1.0307999849319458, 1.0176000595092773, 0.9855999946594238, 0.9333000183105469, 0.9941999912261963, 0.9434999823570251, 1.0019999742507935, 0.9330000281333923, 0.9175000190734863, 0.8467000126838684, 0.8440999984741211, 0.8568000197410583, 0.8052999973297119, 0.9007999897003174, 0.9276999831199646, 0.9603999853134155, 0.8409000039100647, 0.4819999933242798, 0.8144999742507935, 0.5860999822616577, 0.6255000233650208, 0.2745000123977661, 0.6025999784469604, 0.3192000091075897, 0.1981000006198883, 0.1264999955892563, 0.35350000858306885, 0.3603000044822693, 0.24549999833106995, 0.5838000178337097, -0.23600000143051147, 0.14810000360012054, -0.034699998795986176, 0.4189000129699707, -0.08160000294446945, -0.07339999824762344, 0.34850001335144043, 0.0868000015616417, 0.05380000174045563, 1.4416999816894531, 1.438599944114685, 1.4378000497817993, 1.4327000379562378, 1.4230999946594238, 1.4114999771118164, 1.4045000076293945, 1.404099941253662, 1.402999997138977, 1.4011000394821167, 1.3950999975204468, 1.3948999643325806, 1.394700050354004, 1.3930000066757202, 1.3918999433517456, 1.3907999992370605, 1.388200044631958, 1.385699987411499, 1.3854000568389893, 1.3835999965667725, 1.3806999921798706, 1.3759000301361084, 1.3753000497817993, 1.3752000331878662, 1.3734999895095825, 1.3722000122070312, 1.3667999505996704, 1.3667000532150269, 1.364799976348877, 1.3645999431610107, 1.3549000024795532, 1.3629000186920166, 1.3341000080108643, 1.3551000356674194, 1.2515000104904175, 1.3151999711990356, 1.3141000270843506, 1.2589000463485718, 1.2847000360488892, 1.1598000526428223, 1.1823999881744385, 1.0430999994277954, 1.3083000183105469, 1.2378000020980835, 1.1550999879837036, 0.9639999866485596, 0.784500002861023, 0.6541000008583069, 0.8508999943733215, 1.1033999919891357, 0.8618000149726868, 1.0621000528335571, 0.8072999715805054, 0.3206999897956848, 0.024700000882148743, 0.864300012588501, 0.28859999775886536, 0.7389000058174133, 0.6909999847412109, 0.20499999821186066, 0.26179999113082886, -0.4246000051498413, 0.544700026512146, -0.0210999995470047, -0.6690000295639038, 1.4663000106811523, 1.4636000394821167, 1.4586999416351318, 1.4424999952316284, 1.4420000314712524, 1.4398000240325928, 1.437000036239624, 1.4368000030517578, 1.4363000392913818, 1.4335999488830566, 1.43340003490448, 1.4320000410079956, 1.426300048828125, 1.4253000020980835, 1.4222999811172485, 1.4211000204086304, 1.4193999767303467, 1.4184000492095947, 1.4147000312805176, 1.4143999814987183, 1.4098999500274658, 1.4076000452041626, 1.4062999486923218, 1.4047000408172607, 1.4026999473571777, 1.4012999534606934, 1.398900032043457, 1.398900032043457, 1.3976000547409058, 1.3950999975204468, 1.3945000171661377, 1.3740999698638916, 1.3258999586105347, 1.3898999691009521, 1.3447999954223633, 1.3688000440597534, 1.2575000524520874, 1.2933000326156616, 1.2989000082015991, 1.364300012588501, 1.2997000217437744, 1.2237000465393066, 1.2723000049591064, 1.1059000492095947, 1.260200023651123, 1.159999966621399, 1.174399971961975, 0.955299973487854, 1.0038000345230103, 1.0769000053405762, 1.041100025177002, 1.051200032234192, 0.7745000123977661, 0.5916000008583069, 1.0336999893188477, 0.9333999752998352, 0.7537000179290771, 0.8629999756813049, 0.6474000215530396, 0.2004999965429306, 0.5285999774932861, 0.4036000072956085, 0.5551000237464905, 0.15219999849796295, 0.11010000109672546, 0.7365000247955322, 0.436599999666214, 0.20479999482631683, 0.560699999332428, -0.7203999757766724, 0.13950000703334808, -0.2888999879360199, 1.5949000120162964, 1.569000005722046, 1.5679999589920044, 1.562399983406067, 1.5613000392913818, 1.54830002784729, 1.5476000308990479, 1.5458999872207642, 1.5442999601364136, 1.5437999963760376, 1.5408999919891357, 1.5362000465393066, 1.535599946975708, 1.534000039100647, 1.530900001525879, 1.5298999547958374, 1.5277999639511108, 1.5218000411987305, 1.516800045967102, 1.5160000324249268, 1.5154999494552612, 1.5146000385284424, 1.513700008392334, 1.513700008392334, 1.5128999948501587, 1.5056999921798706, 1.5053000450134277, 1.503499984741211, 1.5023000240325928, 1.500499963760376, 1.4997999668121338, 1.4926999807357788, 1.4127000570297241, 1.3203999996185303, 1.3865000009536743, 1.4077999591827393, 1.385699987411499, 1.3027000427246094, 1.0946999788284302, 0.9966999888420105, 1.111799955368042, 1.1583000421524048, 1.2167999744415283, 1.159600019454956, 1.2086000442504883, 0.8303999900817871, 1.1811000108718872, 0.6517000198364258, 0.641700029373169, 0.8169999718666077, 1.0012999773025513, 0.4268999993801117, 1.0636999607086182, 1.069100022315979, 0.6439999938011169, 0.15060000121593475, 0.5852000117301941, 0.01640000008046627, 0.9329000115394592, -0.16459999978542328, 0.5020999908447266, 0.06400000303983688, 0.5644000172615051, 0.12720000743865967, 0.3653999865055084, 0.3345000147819519, 0.5426999926567078, -0.23250000178813934, 0.06949999928474426, -0.7069000005722046, 0.4530999958515167, 0.0925000011920929, -0.053599998354911804], \"logprob\": [30.0, 29.0, 28.0, 27.0, 26.0, 25.0, 24.0, 23.0, 22.0, 21.0, 20.0, 19.0, 18.0, 17.0, 16.0, 15.0, 14.0, 13.0, 12.0, 11.0, 10.0, 9.0, 8.0, 7.0, 6.0, 5.0, 4.0, 3.0, 2.0, 1.0, -5.085000038146973, -5.294099807739258, -5.365699768066406, -5.617099761962891, -5.940400123596191, -5.873600006103516, -6.090199947357178, -6.120699882507324, -5.165599822998047, -6.281199932098389, -6.5833001136779785, -6.642300128936768, -6.668499946594238, -6.17080020904541, -6.8018999099731445, -6.848999977111816, -6.546199798583984, -6.922800064086914, -6.951000213623047, -7.006899833679199, -7.022600173950195, -7.060400009155273, -7.104400157928467, -7.1296000480651855, -7.1697001457214355, -7.170100212097168, -7.193699836730957, -7.177199840545654, -7.188499927520752, -7.238500118255615, -6.383600234985352, -7.000699996948242, -6.419300079345703, -5.915800094604492, -4.73330020904541, -6.219900131225586, -5.499000072479248, -6.514500141143799, -5.589600086212158, -5.401100158691406, -4.844900131225586, -4.927499771118164, -5.089200019836426, -5.145599842071533, -5.848400115966797, -6.082699775695801, -6.302800178527832, -5.727200031280518, -4.307799816131592, -5.6859002113342285, -4.979300022125244, -5.2642998695373535, -4.473400115966797, -5.384099960327148, -4.777599811553955, -4.561100006103516, -4.438000202178955, -5.12060022354126, -5.166800022125244, -5.1321001052856445, -5.530600070953369, -4.821599960327148, -5.1921000480651855, -5.133200168609619, -5.447800159454346, -5.199699878692627, -5.3242998123168945, -5.484600067138672, -5.45550012588501, -5.487199783325195, -4.739099979400635, -5.118899822235107, -3.1387999057769775, -4.33620023727417, -6.041600227355957, -6.474599838256836, -6.653500080108643, -6.64870023727417, -6.612199783325195, -6.689499855041504, -6.817699909210205, -6.857800006866455, -6.857999801635742, -6.841100215911865, -6.02269983291626, -6.914999961853027, -6.886899948120117, -6.99560022354126, -6.927800178527832, -7.045000076293945, -5.239500045776367, -7.146999835968018, -6.286799907684326, -4.15310001373291, -7.157700061798096, -7.20550012588501, -6.672500133514404, -7.27869987487793, -7.230599880218506, -7.271599769592285, -5.3308000564575195, -6.663400173187256, -4.582200050354004, -6.2083001136779785, -2.969599962234497, -5.042399883270264, -5.765500068664551, -5.193999767303467, -5.5802998542785645, -4.968800067901611, -5.388999938964844, -4.9583001136779785, -6.374000072479248, -6.111400127410889, -5.8541998863220215, -5.153900146484375, -4.555699825286865, -4.135700225830078, -5.330399990081787, -5.924699783325195, -5.440499782562256, -5.914700031280518, -5.457200050354004, -4.797399997711182, -4.539899826049805, -5.664999961853027, -5.089000225067139, -5.57480001449585, -5.544400215148926, -5.269100189208984, -5.3246002197265625, -5.010200023651123, -5.561699867248535, -5.431700229644775, -5.428199768066406, -5.635799884796143, -5.825699806213379, -6.023600101470947, -6.528299808502197, -6.5177998542785645, -5.77370023727417, -5.633900165557861, -6.653900146484375, -6.671800136566162, -6.69189977645874, -6.674200057983398, -6.720099925994873, -6.840700149536133, -6.782700061798096, -6.844699859619141, -6.9197998046875, -6.846799850463867, -6.961400032043457, -7.0167999267578125, -6.21619987487793, -7.090400218963623, -7.111599922180176, -5.808800220489502, -7.141600131988525, -7.163099765777588, -7.214200019836426, -7.0366997718811035, -7.260200023651123, -7.26140022277832, -7.263400077819824, -7.169899940490723, -5.7220001220703125, -4.798500061035156, -6.923399925231934, -5.541900157928467, -6.289000034332275, -3.8926000595092773, -5.077099800109863, -5.848299980163574, -6.609000205993652, -5.969099998474121, -5.3333001136779785, -5.848599910736084, -4.783199787139893, -5.8165998458862305, -5.309700012207031, -5.4816999435424805, -4.42710018157959, -4.700799942016602, -5.200500011444092, -5.124100208282471, -5.274700164794922, -4.323999881744385, -3.99399995803833, -5.42080020904541, -5.317699909210205, -4.938899993896484, -5.173999786376953, -4.901899814605713, -4.364099979400635, -4.8821001052856445, -4.796500205993652, -4.987299919128418, -4.60699987411499, -4.637800216674805, -5.208899974822998, -4.978499889373779, -5.04610013961792, -5.3078999519348145, -4.941500186920166, -5.401599884033203, -5.385700225830078, -5.008600234985352, -6.2210001945495605, -6.277200222015381, -6.403299808502197, -6.437699794769287, -4.553299903869629, -6.634699821472168, -6.599899768829346, -6.775599956512451, -6.754899978637695, -6.810400009155273, -6.911900043487549, -5.803599834442139, -6.938700199127197, -6.9857001304626465, -6.942200183868408, -7.027299880981445, -7.060200214385986, -7.158100128173828, -7.15880012512207, -7.0858001708984375, -7.160200119018555, -7.191999912261963, -7.138700008392334, -6.9319000244140625, -7.280300140380859, -7.256199836730957, -7.307600021362305, -7.156099796295166, -7.294099807739258, -6.0071001052856445, -6.071800231933594, -6.073299884796143, -5.050899982452393, -6.152500152587891, -6.53410005569458, -6.420499801635742, -6.109899997711182, -5.215099811553955, -4.79449987411499, -5.370100021362305, -5.653800010681152, -5.90369987487793, -5.7179999351501465, -5.937300205230713, -4.786399841308594, -5.9334001541137695, -4.548399925231934, -4.6092000007629395, -5.1041998863220215, -5.557300090789795, -4.670000076293945, -5.857399940490723, -5.9095001220703125, -5.28410005569458, -4.597300052642822, -5.33650016784668, -4.742700099945068, -5.729499816894531, -4.750100135803223, -5.36460018157959, -5.054100036621094, -5.513999938964844, -5.287899971008301, -5.503200054168701, -5.498600006103516, -5.603099822998047, -5.330999851226807, -5.471499919891357, -5.271500110626221, -5.639200210571289, -5.600100040435791, -5.639999866485596]}, \"token.table\": {\"Topic\": [2, 1, 2, 3, 4, 3, 1, 3, 4, 4, 1, 2, 3, 4, 4, 1, 2, 3, 4, 1, 2, 4, 1, 3, 2, 2, 1, 1, 2, 3, 2, 3, 4, 1, 2, 3, 4, 1, 2, 1, 2, 3, 1, 3, 1, 1, 2, 3, 4, 1, 3, 3, 2, 3, 1, 2, 3, 4, 1, 2, 3, 4, 1, 2, 3, 4, 1, 2, 3, 4, 2, 1, 1, 2, 3, 4, 1, 3, 1, 2, 3, 4, 2, 3, 4, 2, 1, 2, 3, 4, 1, 2, 3, 4, 1, 3, 1, 1, 2, 3, 4, 1, 2, 3, 1, 3, 4, 2, 1, 1, 3, 4, 1, 2, 3, 4, 4, 1, 2, 1, 2, 3, 4, 1, 2, 3, 4, 4, 3, 4, 2, 1, 1, 2, 2, 3, 1, 2, 4, 1, 2, 1, 4, 1, 2, 3, 1, 4, 1, 1, 2, 3, 4, 1, 2, 4, 2, 3, 1, 2, 4, 1, 4, 1, 4, 2, 3, 4, 4, 1, 2, 3, 4, 1, 2, 4, 2, 4, 2, 4, 3, 1, 2, 3, 4, 2, 3, 1, 4, 1, 2, 3, 4, 1, 3, 4, 2, 3, 4, 1, 2, 3, 4, 2, 3, 4, 4, 4, 1, 1, 2, 3, 4, 1, 2, 3, 4, 1, 2, 3, 4, 3, 1, 4, 2, 3, 3, 2, 1, 2, 3, 4, 1, 3, 1, 2, 3, 4, 4, 3, 1, 2, 3, 4, 3, 1, 2, 3, 4, 3, 1, 1, 3, 4, 4, 1, 2, 3, 4, 1, 2, 4, 3, 1, 1, 2, 3, 4, 1, 2, 3, 4, 1, 2, 3, 4, 3, 1, 1, 3, 1, 2, 1, 2, 3, 4, 1, 2, 3, 4, 2, 3, 2, 3, 4, 1, 1, 2, 3, 4, 1, 1, 2, 3, 4, 4, 4, 1, 2, 3, 4, 1, 3, 4, 4, 1, 2, 3, 4, 3, 4, 2, 1, 2, 3, 4, 1, 2, 3, 4, 2, 2, 1, 2, 3, 4, 1, 2, 4, 1, 3, 4, 2, 3, 4, 1, 3, 1, 2, 3, 4, 1, 2, 4, 2, 3, 4, 1, 3, 1, 2, 3, 4, 1, 2, 3, 2, 1, 2, 1, 2, 3, 4, 3, 1, 2, 3, 4, 4, 2, 3, 4, 1, 2, 3, 4, 2, 3, 3, 3, 1, 2, 3, 4, 3, 3, 4, 1, 2, 3, 4, 2, 1, 2, 3, 1, 2, 3, 1, 3, 1, 1, 1, 2, 3, 4, 1, 3, 1, 3, 4, 1, 2, 4, 1, 2, 2, 3, 4, 1, 3, 4, 1, 2, 3, 2, 1, 2, 1, 1, 1, 3, 4, 1, 2, 3, 4, 4, 1, 2, 1, 2, 1, 1, 2, 3, 4, 1, 3, 1, 2, 4, 1, 2, 3, 1, 3, 4, 2, 3, 1, 2, 4, 1, 2, 3, 4, 1, 1, 2, 1, 2, 3, 4, 1, 2, 3, 4, 1, 2, 3, 4, 2, 4, 4, 3, 1, 2, 3, 4, 4, 1, 3, 1, 2, 3, 4, 1, 2, 3, 1, 2, 3, 4, 3, 1, 3, 4, 2, 3, 4, 4, 1, 2, 3, 4, 4, 3, 1, 2, 3, 4, 2, 1, 4, 1, 3, 4], \"Freq\": [0.9461191296577454, 0.2400965392589569, 0.18007241189479828, 0.35091033577919006, 0.22624482214450836, 0.9551208019256592, 0.9751242995262146, 0.9546673893928528, 0.9849843382835388, 0.8836312294006348, 0.10722166299819946, 0.09956297278404236, 0.3369823694229126, 0.45186272263526917, 0.9619796872138977, 0.022251959890127182, 0.28927549719810486, 0.682393491268158, 0.948799729347229, 0.376672625541687, 0.07243704050779343, 0.5505214929580688, 0.9472382664680481, 0.9472149610519409, 0.9836226105690002, 0.8965265154838562, 0.9165313243865967, 0.1173938661813736, 0.7630601525306702, 0.10271963477134705, 0.05301819369196892, 0.7290001511573792, 0.22532731294631958, 0.33933812379837036, 0.09254676103591919, 0.18509352207183838, 0.38561150431632996, 0.061635952442884445, 0.939948320388794, 0.03290509805083275, 0.9048901796340942, 0.04935764521360397, 0.9415552020072937, 0.03487241640686989, 0.9778389930725098, 0.024898631498217583, 0.6639634966850281, 0.19088950753211975, 0.11619361490011215, 0.04232027009129524, 0.9310459494590759, 0.9466818571090698, 0.934075117111206, 0.94271320104599, 0.313454806804657, 0.027427295222878456, 0.27819111943244934, 0.3800639510154724, 0.2658873498439789, 0.15308666229248047, 0.40890252590179443, 0.17121534049510956, 0.17440277338027954, 0.13806886970996857, 0.3996730446815491, 0.29067128896713257, 0.22343315184116364, 0.06702994555234909, 0.5898635387420654, 0.1206539049744606, 0.9145379662513733, 0.9624415040016174, 0.31683430075645447, 0.09505028277635574, 0.4330068528652191, 0.15841715037822723, 0.17795099318027496, 0.8134902119636536, 0.2837083637714386, 0.018502717837691307, 0.6167572736740112, 0.08634602278470993, 0.14878523349761963, 0.7970637679100037, 0.053137585520744324, 0.9847896695137024, 0.3089878261089325, 0.1726696640253067, 0.19993330538272858, 0.3180757164955139, 0.2951890826225281, 0.026835370808839798, 0.0805061087012291, 0.6037958264350891, 0.19460251927375793, 0.8027353882789612, 0.9383662939071655, 0.029327061027288437, 0.01955137401819229, 0.6451953649520874, 0.3030462861061096, 0.1597149670124054, 0.11180047690868378, 0.7346888780593872, 0.8981242179870605, 0.08164765685796738, 0.020411914214491844, 0.968304455280304, 0.9787634611129761, 0.9208367466926575, 0.027904143556952477, 0.05580828711390495, 0.47999319434165955, 0.2889755070209503, 0.14203880727291107, 0.08816201984882355, 0.9601395726203918, 0.49899372458457947, 0.4876529574394226, 0.2219432294368744, 0.053804416209459305, 0.18158991634845734, 0.5447697043418884, 0.1793852150440216, 0.09965845197439194, 0.09965845197439194, 0.6378141045570374, 0.8767615556716919, 0.1464894562959671, 0.8423143625259399, 0.984103798866272, 0.9874305725097656, 0.9547322988510132, 0.0340975821018219, 0.8916552662849426, 0.06368966400623322, 0.20330418646335602, 0.10165209323167801, 0.6861516237258911, 0.9478330016136169, 0.9296025037765503, 0.9807140827178955, 0.010433129034936428, 0.8433348536491394, 0.11396417021751404, 0.045585665851831436, 0.19309358298778534, 0.8109930157661438, 0.975770890712738, 0.10103444755077362, 0.10103444755077362, 0.15155166387557983, 0.6567239165306091, 0.05778037756681442, 0.11556075513362885, 0.8089252710342407, 0.9675722718238831, 0.9588956832885742, 0.24027389287948608, 0.012013694271445274, 0.7568627595901489, 0.07479388266801834, 0.8975266218185425, 0.9856549501419067, 0.9619511961936951, 0.6154205203056335, 0.14919285476207733, 0.2331138253211975, 0.8840974569320679, 0.613317608833313, 0.2044392079114914, 0.04906540736556053, 0.13084109127521515, 0.11730924993753433, 0.8211647868156433, 0.05213744565844536, 0.8728886842727661, 0.893838107585907, 0.06325063109397888, 0.917134165763855, 0.9386242032051086, 0.23842807114124298, 0.5463976860046387, 0.13908304274082184, 0.06954152137041092, 0.8781302571296692, 0.1219625324010849, 0.8238840103149414, 0.15776503086090088, 0.7574275135993958, 0.047339219599962234, 0.10256830602884293, 0.09467843919992447, 0.8524562120437622, 0.027949383482336998, 0.11179753392934799, 0.020114582031965256, 0.8649270534515381, 0.10057291388511658, 0.17263294756412506, 0.1883268505334854, 0.47081711888313293, 0.17263294756412506, 0.9928648471832275, 0.8927227854728699, 0.09919141978025436, 0.9571009874343872, 0.9467216730117798, 0.9487531781196594, 0.28003522753715515, 0.07467605918645859, 0.018669014796614647, 0.6347464919090271, 0.2574167251586914, 0.2298363596200943, 0.3861250877380371, 0.12411163747310638, 0.0791463702917099, 0.9101832509040833, 0.2382444143295288, 0.748768150806427, 0.946896493434906, 0.9062412977218628, 0.0755201056599617, 0.9866098761558533, 0.013154798187315464, 0.9468826651573181, 0.9285634160041809, 0.7847935557365417, 0.032974518835544586, 0.08573374897241592, 0.09232865273952484, 0.027888495475053787, 0.9482088685035706, 0.7853347063064575, 0.012175732292234898, 0.20089958608150482, 0.9407312870025635, 0.9462741017341614, 0.9065496921539307, 0.31221669912338257, 0.3225095570087433, 0.15096192061901093, 0.21271906793117523, 0.9928354620933533, 0.12583805620670319, 0.47189271450042725, 0.2726491391658783, 0.13632456958293915, 0.9516730308532715, 0.9954791069030762, 0.14572234451770782, 0.2706272006034851, 0.5828893780708313, 0.9646881222724915, 0.47692278027534485, 0.07714927196502686, 0.16832569241523743, 0.2805428206920624, 0.18246015906333923, 0.1303286850452423, 0.67770916223526, 0.9596208333969116, 0.9923480153083801, 0.46351170539855957, 0.05709926784038544, 0.1712978035211563, 0.30900779366493225, 0.13054929673671722, 0.013054929673671722, 0.6396915316581726, 0.22193379700183868, 0.16012997925281525, 0.11544253677129745, 0.33887970447540283, 0.3835671544075012, 0.9597480297088623, 0.9822187423706055, 0.950003445148468, 0.9719305038452148, 0.06721439212560654, 0.9306607842445374, 0.15915779769420624, 0.7503153085708618, 0.02273682691156864, 0.06821048259735107, 0.271166056394577, 0.011298585683107376, 0.254218190908432, 0.4632420241832733, 0.9901667237281799, 0.009981519542634487, 0.022048622369766235, 0.39687520265579224, 0.595312774181366, 0.9772988557815552, 0.32634153962135315, 0.02355041913688183, 0.4911944568157196, 0.15812425315380096, 0.9223191142082214, 0.2033366858959198, 0.033889446407556534, 0.15815074741840363, 0.5987135767936707, 0.923797607421875, 0.9619398713111877, 0.4121488034725189, 0.11981069296598434, 0.26358354091644287, 0.2036781758069992, 0.009173233062028885, 0.045866161584854126, 0.9448429346084595, 0.9210097193717957, 0.11571599543094635, 0.04339350014925003, 0.7666184902191162, 0.07232249528169632, 0.8351671099662781, 0.15659382939338684, 0.9400569796562195, 0.0319407694041729, 0.7985192537307739, 0.09582231193780899, 0.09582231193780899, 0.30996108055114746, 0.022960079833865166, 0.642882227897644, 0.022960079833865166, 0.9460975527763367, 0.9680026173591614, 0.2408057451248169, 0.025800615549087524, 0.5332127213478088, 0.19780471920967102, 0.08804430812597275, 0.6823433637619019, 0.2421218454837799, 0.7653893828392029, 0.1093413382768631, 0.12300900369882584, 0.9255415797233582, 0.9463101625442505, 0.9551671743392944, 0.05962062254548073, 0.8943093419075012, 0.7897591590881348, 0.11700135469436646, 0.029250338673591614, 0.05850067734718323, 0.03936600312590599, 0.8463690876960754, 0.09841500967741013, 0.9548208713531494, 0.034100744873285294, 0.9441841840744019, 0.024180661886930466, 0.9430457949638367, 0.26888078451156616, 0.09858961403369904, 0.2778434753417969, 0.3495450019836426, 0.506976842880249, 0.4055814743041992, 0.082959845662117, 0.9373767375946045, 0.8609580397605896, 0.13656575977802277, 0.603935956954956, 0.1300785094499588, 0.08362190425395966, 0.18582645058631897, 0.9852282404899597, 0.41224583983421326, 0.21091647446155548, 0.02876133657991886, 0.34513604640960693, 0.927500307559967, 0.012001998722553253, 0.8281378746032715, 0.1560259759426117, 0.028157168999314308, 0.06570006161928177, 0.8541008234024048, 0.046928614377975464, 0.7445700168609619, 0.24504835903644562, 0.9703347086906433, 0.9088684916496277, 0.3699783682823181, 0.5605732798576355, 0.03363439813256264, 0.04484586417675018, 0.9046991467475891, 0.8698405623435974, 0.0869840532541275, 0.485470712184906, 0.17559579014778137, 0.19625411927700043, 0.1446083039045334, 0.8885042667388916, 0.6309151649475098, 0.1558731496334076, 0.20783087611198425, 0.2548633813858032, 0.7182513475418091, 0.023169398307800293, 0.8649644255638123, 0.13657332956790924, 0.9645165205001831, 0.9930617213249207, 0.18109257519245148, 0.010652503930032253, 0.5752352476119995, 0.2237025797367096, 0.08376656472682953, 0.9214321970939636, 0.2986316680908203, 0.4814673960208893, 0.21940286457538605, 0.1337030827999115, 0.8467862010002136, 0.9405733942985535, 0.464246541261673, 0.529025137424469, 0.8769410252571106, 0.047402217984199524, 0.07110332697629929, 0.9734594225883484, 0.9262260794639587, 0.9080207347869873, 0.38986292481422424, 0.514104962348938, 0.0942525714635849, 0.9213056564331055, 0.9558767676353455, 0.028114022687077522, 0.9967064261436462, 0.9789572954177856, 0.4339439868927002, 0.048215996474027634, 0.514303982257843, 0.8642935752868652, 0.012899903580546379, 0.025799807161092758, 0.10319922864437103, 0.9554165005683899, 0.9781301617622375, 0.9326289296150208, 0.5460332632064819, 0.45214518904685974, 0.9760221242904663, 0.2954515516757965, 0.5627648234367371, 0.0984838455915451, 0.056276485323905945, 0.9495238661766052, 0.8613640069961548, 0.8792832493782043, 0.02930944226682186, 0.08792832493782043, 0.05894697457551956, 0.08842045813798904, 0.8252576589584351, 0.0984346866607666, 0.6671684384346008, 0.24061812460422516, 0.9430282711982727, 0.06286855041980743, 0.7929399609565735, 0.18057048320770264, 0.0157017819583416, 0.3561279773712158, 0.16758963465690613, 0.2618587911128998, 0.21472421288490295, 0.9758416414260864, 0.9817439317703247, 0.9385470747947693, 0.38265207409858704, 0.24063687026500702, 0.27614066004753113, 0.098621666431427, 0.04617147892713547, 0.8212926983833313, 0.11053172498941422, 0.02238617278635502, 0.4454347491264343, 0.06871067732572556, 0.2535187005996704, 0.2321947067975998, 0.07923205196857452, 0.9111685752868652, 0.8681250214576721, 0.9411211609840393, 0.3670809268951416, 0.07341618090867996, 0.39330098032951355, 0.16256441175937653, 0.9787470698356628, 0.9379193186759949, 0.9268300533294678, 0.43135517835617065, 0.3112872242927551, 0.18677234649658203, 0.0667044073343277, 0.04367680847644806, 0.9172130227088928, 0.8952159881591797, 0.514955461025238, 0.14505787193775177, 0.007252893410623074, 0.33363309502601624, 0.9730549454689026, 0.3295147120952606, 0.306525319814682, 0.3601672351360321, 0.8917380571365356, 0.02286507748067379, 0.08383861929178238, 0.9430587291717529, 0.6063705682754517, 0.14488500356674194, 0.06975944340229034, 0.17708167433738708, 0.9585647583007812, 0.9516050815582275, 0.2959384024143219, 0.3068991005420685, 0.2082529515028, 0.1918119341135025, 0.9733901023864746, 0.15134112536907196, 0.8071526885032654, 0.05586796998977661, 0.9218215346336365, 0.9178884625434875], \"Term\": [\"/home\", \"add\", \"add\", \"add\", \"add\", \"admins\", \"agreement\", \"amend\", \"analyzer\", \"annotate\", \"annotation\", \"annotation\", \"annotation\", \"annotation\", \"annotationdef\", \"apply\", \"apply\", \"apply\", \"appreciate\", \"approach\", \"approach\", \"approach\", \"assure\", \"away\", \"backported\", \"backporting\", \"basically\", \"bean\", \"bean\", \"bean\", \"bekhta\", \"bekhta\", \"bekhta\", \"better\", \"better\", \"better\", \"better\", \"boot\", \"boot\", \"branch\", \"branch\", \"branch\", \"bridge\", \"bridge\", \"bridges\", \"build\", \"build\", \"build\", \"build\", \"builder\", \"builder\", \"calling\", \"candidate\", \"cascade\", \"case\", \"case\", \"case\", \"case\", \"change\", \"change\", \"change\", \"change\", \"check\", \"check\", \"check\", \"check\", \"class\", \"class\", \"class\", \"class\", \"classpath\", \"click\", \"code\", \"code\", \"code\", \"code\", \"collection\", \"collection\", \"comment\", \"comment\", \"comment\", \"comment\", \"commit\", \"commit\", \"commit\", \"compile\", \"configuration\", \"configuration\", \"configuration\", \"configuration\", \"consider\", \"consider\", \"consider\", \"consider\", \"consistent\", \"consistent\", \"constant\", \"constraint\", \"constraint\", \"constraint\", \"constraint\", \"constructor\", \"constructor\", \"constructor\", \"container\", \"container\", \"container\", \"contribution\", \"contributor\", \"cookie\", \"cookie\", \"cookie\", \"create\", \"create\", \"create\", \"create\", \"currency\", \"data\", \"data\", \"default\", \"default\", \"default\", \"default\", \"define\", \"define\", \"define\", \"define\", \"defining\", \"definition\", \"definition\", \"dependency\", \"design\", \"details\", \"details\", \"detect\", \"detect\", \"directly\", \"directly\", \"directly\", \"directory\", \"directorybasedindexmanager\", \"document\", \"document\", \"documentation\", \"documentation\", \"documentation\", \"domain\", \"domain\", \"duplicate\", \"e.g.\", \"e.g.\", \"e.g.\", \"e.g.\", \"earlier\", \"earlier\", \"earlier\", \"early\", \"efficient\", \"elasticsearch\", \"elasticsearch\", \"elasticsearch\", \"email\", \"email\", \"embed\", \"epub\", \"error\", \"error\", \"error\", \"errorhandler\", \"example\", \"example\", \"example\", \"example\", \"exception\", \"exception\", \"exception\", \"executor\", \"experimental\", \"expose\", \"expose\", \"extractor\", \"fail\", \"fail\", \"fail\", \"fail\", \"failure\", \"failure\", \"feel\", \"feel\", \"field\", \"field\", \"field\", \"field\", \"fields\", \"fields\", \"fields\", \"final\", \"final\", \"final\", \"fix\", \"fix\", \"fix\", \"fix\", \"flush\", \"force\", \"force\", \"forceasync\", \"formatting\", \"frequently\", \"going\", \"going\", \"going\", \"going\", \"good\", \"good\", \"good\", \"good\", \"gradle\", \"gradle\", \"group\", \"group\", \"group3\", \"header\", \"header\", \"hibernate\", \"hibernate\", \"hv1184constraint\", \"image\", \"implementation\", \"implementation\", \"implementation\", \"implementation\", \"import\", \"import\", \"index\", \"index\", \"index\", \"inheritance\", \"integrator\", \"intellij\", \"issue\", \"issue\", \"issue\", \"issue\", \"jandex\", \"java\", \"java\", \"java\", \"java\", \"javadocs\", \"jenkins\", \"jira\", \"jira\", \"jira\", \"jsoup\", \"know\", \"know\", \"know\", \"know\", \"later\", \"later\", \"later\", \"legacy\", \"license\", \"like\", \"like\", \"like\", \"like\", \"list\", \"list\", \"list\", \"list\", \"look\", \"look\", \"look\", \"look\", \"loop\", \"macro\", \"manually\", \"massindexer\", \"master\", \"master\", \"maven\", \"maven\", \"maven\", \"maven\", \"maybe\", \"maybe\", \"maybe\", \"maybe\", \"merge\", \"merge\", \"message\", \"message\", \"message\", \"metadata\", \"method\", \"method\", \"method\", \"method\", \"millis\", \"miss\", \"miss\", \"miss\", \"miss\", \"mute\", \"mycollection\", \"need\", \"need\", \"need\", \"need\", \"nice\", \"nice\", \"nice\", \"notifications@github.com\", \"null\", \"null\", \"null\", \"null\", \"number\", \"number\", \"older\", \"operations\", \"operations\", \"operations\", \"operations\", \"order\", \"order\", \"order\", \"order\", \"org.springframework.beans.factory.beancreationexception\", \"page\", \"parameter\", \"parameter\", \"parameter\", \"parameter\", \"patch\", \"patch\", \"patch\", \"path\", \"path\", \"path\", \"pending\", \"performstreamoperation\", \"period\", \"person\", \"person\", \"place\", \"place\", \"place\", \"place\", \"plugin\", \"plugin\", \"plugin\", \"polish\", \"polish\", \"prefix\", \"private\", \"private\", \"probably\", \"probably\", \"probably\", \"probably\", \"problem\", \"problem\", \"problem\", \"progress\", \"project\", \"project\", \"property\", \"property\", \"property\", \"property\", \"protocol\", \"provide\", \"provide\", \"provide\", \"provide\", \"proxy\", \"public\", \"public\", \"public\", \"push\", \"push\", \"push\", \"push\", \"rebased\", \"rebased\", \"reflection\", \"regular\", \"release\", \"release\", \"release\", \"release\", \"remain\", \"remark\", \"remark\", \"remove\", \"remove\", \"remove\", \"remove\", \"repo\", \"request\", \"request\", \"request\", \"resolve\", \"resolve\", \"resolve\", \"response\", \"response\", \"restdocs\", \"retest\", \"return\", \"return\", \"return\", \"return\", \"rework\", \"rework\", \"right\", \"right\", \"right\", \"root\", \"root\", \"sake\", \"sample\", \"sample\", \"search\", \"search\", \"search\", \"section\", \"semantics\", \"sequence\", \"session\", \"session\", \"session\", \"sessioncontextholder\", \"sessions\", \"sessions\", \"sign\", \"signing\", \"simple\", \"simple\", \"simple\", \"single\", \"single\", \"single\", \"single\", \"size\", \"snippet\", \"spot\", \"spring\", \"spring\", \"spring?repositoryid\", \"start\", \"start\", \"start\", \"start\", \"status\", \"stay\", \"store\", \"store\", \"store\", \"stream\", \"stream\", \"stream\", \"string\", \"string\", \"string\", \"submit\", \"submit\", \"support\", \"support\", \"support\", \"sure\", \"sure\", \"sure\", \"sure\", \"suspect\", \"sync\", \"synchronization\", \"test\", \"test\", \"test\", \"test\", \"thanks\", \"thanks\", \"thanks\", \"thanks\", \"think\", \"think\", \"think\", \"think\", \"thread\", \"thread\", \"trick\", \"trust\", \"type\", \"type\", \"type\", \"type\", \"typo\", \"unit\", \"unwrap\", \"update\", \"update\", \"update\", \"update\", \"upgrade\", \"upgrade\", \"useless\", \"user\", \"user\", \"user\", \"user\", \"validation\", \"value\", \"value\", \"value\", \"version\", \"version\", \"version\", \"waiting\", \"want\", \"want\", \"want\", \"want\", \"weight\", \"whitelist\", \"work\", \"work\", \"work\", \"work\", \"workspace\", \"worry\", \"worry\", \"yeah\", \"yeah\", \"yoann\"]}, \"R\": 30, \"lambda.step\": 0.01, \"plot.opts\": {\"xlab\": \"PC1\", \"ylab\": \"PC2\"}, \"topic.order\": [1, 4, 3, 2]};\n",
       "\n",
       "function LDAvis_load_lib(url, callback){\n",
       "  var s = document.createElement('script');\n",
       "  s.src = url;\n",
       "  s.async = true;\n",
       "  s.onreadystatechange = s.onload = callback;\n",
       "  s.onerror = function(){console.warn(\"failed to load library \" + url);};\n",
       "  document.getElementsByTagName(\"head\")[0].appendChild(s);\n",
       "}\n",
       "\n",
       "if(typeof(LDAvis) !== \"undefined\"){\n",
       "   // already loaded: just create the visualization\n",
       "   !function(LDAvis){\n",
       "       new LDAvis(\"#\" + \"ldavis_el3346425121148068561038443200\", ldavis_el3346425121148068561038443200_data);\n",
       "   }(LDAvis);\n",
       "}else if(typeof define === \"function\" && define.amd){\n",
       "   // require.js is available: use it to load d3/LDAvis\n",
       "   require.config({paths: {d3: \"https://cdnjs.cloudflare.com/ajax/libs/d3/3.5.5/d3.min\"}});\n",
       "   require([\"d3\"], function(d3){\n",
       "      window.d3 = d3;\n",
       "      LDAvis_load_lib(\"https://cdn.rawgit.com/bmabey/pyLDAvis/files/ldavis.v1.0.0.js\", function(){\n",
       "        new LDAvis(\"#\" + \"ldavis_el3346425121148068561038443200\", ldavis_el3346425121148068561038443200_data);\n",
       "      });\n",
       "    });\n",
       "}else{\n",
       "    // require.js not available: dynamically load d3 & LDAvis\n",
       "    LDAvis_load_lib(\"https://cdnjs.cloudflare.com/ajax/libs/d3/3.5.5/d3.min.js\", function(){\n",
       "         LDAvis_load_lib(\"https://cdn.rawgit.com/bmabey/pyLDAvis/files/ldavis.v1.0.0.js\", function(){\n",
       "                 new LDAvis(\"#\" + \"ldavis_el3346425121148068561038443200\", ldavis_el3346425121148068561038443200_data);\n",
       "            })\n",
       "         });\n",
       "}\n",
       "</script>"
      ],
      "text/plain": [
       "<IPython.core.display.HTML object>"
      ]
     },
     "execution_count": 417,
     "metadata": {},
     "output_type": "execute_result"
    }
   ],
   "source": [
    "with open ('Final_LDA_model.pkl', 'rb') as f:\n",
    "    LDAmodel = pickle.load(f)\n",
    "\n",
    "vis = pyLDAvis.gensim.prepare(model_list[1], corpus, dictionary)\n",
    "pyLDAvis.display(vis)"
   ]
  },
  {
   "cell_type": "markdown",
   "metadata": {},
   "source": [
    "The above visualization tells us 3 things.  \n",
    "1. There is some overlap between the topics.\n",
    "2. Lemmatized words may degrade some of the original meaning.\n",
    "3. It is hard to identify what problems the comments are talking about just by looking at a collection of unigram keywords.    \n",
    "\n",
    "Topic 1 contains words like database, encoding, search, query which lead me to believe this topic is related to compiling data.  \n",
    "Topic 2 consists of words that appear to be related to version control and problems associated with implementation.  \n",
    "Topic 3 points to activities related to the spring project.  \n",
    "Topic 4 seems to deal mostly with github related keywords such as: \"merge\", \"push\", \"contribution\", and \"master\",  as well as basic actions such as fixing, applying, and testing.  \n",
    "\n",
    "It is challenging to get specific semantic meanings in each comment because the median length of each comment is relatively short. The topics also seem to have an words that may fit better in other topics. After doing some research, I found a blog that talked about using the coherence score as a metric to determine optimal number of clusters.\n",
    "\n",
    "Ideas:  \n",
    "Use Mallet LDA implementation  \n",
    "Gensim word2vec to find word similarities -corpus is likely too small   \n",
    "bigrams and trigrams  -Might run into PC limitations"
   ]
  },
  {
   "cell_type": "markdown",
   "metadata": {},
   "source": [
    "##### Clustering Comments by Topic Type\n",
    "We can use the topic contribution numbers to determine what each comment was talking about."
   ]
  },
  {
   "cell_type": "code",
   "execution_count": 418,
   "metadata": {},
   "outputs": [],
   "source": [
    "def comment_clusters(ldamodel, data):\n",
    "    commentsdf = pd.DataFrame(columns = ['topic', 'percentage'])\n",
    "    ldamodel = ldamodel\n",
    "    topics =[]\n",
    "    percentages = []\n",
    "    for i, row in enumerate(ldamodel[corpus]):\n",
    "        row = sorted(row, key=lambda x: x[1], reverse=True)\n",
    "        topic, percentage = row[0][0], row[0][1]\n",
    "        topics.append(topic)\n",
    "        percentages.append(percentage)\n",
    "    data = data.reset_index().drop(columns='index')    \n",
    "    commentsdf['topic'] = topics\n",
    "    commentsdf['percentage'] = percentages\n",
    "    commentsdf = pd.concat([commentsdf, data.comment], axis=1)\n",
    "    return commentsdf"
   ]
  },
  {
   "cell_type": "code",
   "execution_count": 431,
   "metadata": {
    "scrolled": true
   },
   "outputs": [
    {
     "data": {
      "text/html": [
       "<div>\n",
       "<style scoped>\n",
       "    .dataframe tbody tr th:only-of-type {\n",
       "        vertical-align: middle;\n",
       "    }\n",
       "\n",
       "    .dataframe tbody tr th {\n",
       "        vertical-align: top;\n",
       "    }\n",
       "\n",
       "    .dataframe thead th {\n",
       "        text-align: right;\n",
       "    }\n",
       "</style>\n",
       "<table border=\"1\" class=\"dataframe\">\n",
       "  <thead>\n",
       "    <tr style=\"text-align: right;\">\n",
       "      <th></th>\n",
       "      <th>topic</th>\n",
       "      <th>percentage</th>\n",
       "      <th>comment</th>\n",
       "    </tr>\n",
       "  </thead>\n",
       "  <tbody>\n",
       "    <tr>\n",
       "      <th>0</th>\n",
       "      <td>0</td>\n",
       "      <td>0.663131</td>\n",
       "      <td>omnibus builds are already in pain so merging to fix those</td>\n",
       "    </tr>\n",
       "    <tr>\n",
       "      <th>1</th>\n",
       "      <td>0</td>\n",
       "      <td>0.940832</td>\n",
       "      <td>@chef/client-core reviewage (lets not think too hard about the breakpoint resource itself, i just picked it because its the shortest bit of provider code out there)</td>\n",
       "    </tr>\n",
       "    <tr>\n",
       "      <th>2</th>\n",
       "      <td>0</td>\n",
       "      <td>0.562591</td>\n",
       "      <td>This blows up 14.04 because allow-downgrades is not supported there, so you'll need to figure out the first versions of ubuntu and debian that can safely support this and conditionally add the flag</td>\n",
       "    </tr>\n",
       "    <tr>\n",
       "      <th>3</th>\n",
       "      <td>0</td>\n",
       "      <td>0.853469</td>\n",
       "      <td>I know @lamont-granquist and @thommay  are going to be unhappy about this one. This is absolutely a short term fix until we get choco on the windows jenkins nodes like it was before our system failure.</td>\n",
       "    </tr>\n",
       "    <tr>\n",
       "      <th>4</th>\n",
       "      <td>1</td>\n",
       "      <td>0.801363</td>\n",
       "      <td>no, that's absolutely the right thing to do.</td>\n",
       "    </tr>\n",
       "    <tr>\n",
       "      <th>5</th>\n",
       "      <td>3</td>\n",
       "      <td>0.810483</td>\n",
       "      <td>^ trailing comma is trolling you</td>\n",
       "    </tr>\n",
       "    <tr>\n",
       "      <th>6</th>\n",
       "      <td>1</td>\n",
       "      <td>0.551327</td>\n",
       "      <td>Yolo link fixing</td>\n",
       "    </tr>\n",
       "    <tr>\n",
       "      <th>7</th>\n",
       "      <td>3</td>\n",
       "      <td>0.458198</td>\n",
       "      <td>Should https://github.com/chef/chef/pull/6156 get added too? i missed adding it to the release notes in my PR</td>\n",
       "    </tr>\n",
       "    <tr>\n",
       "      <th>8</th>\n",
       "      <td>0</td>\n",
       "      <td>0.767361</td>\n",
       "      <td>Might also be cool to do this for `node['platform_version']`, in the Ohai loading we could do something like `automatic['platform_version'] = VersionString.new(automatic['platform_version'])`.</td>\n",
       "    </tr>\n",
       "    <tr>\n",
       "      <th>9</th>\n",
       "      <td>2</td>\n",
       "      <td>0.910366</td>\n",
       "      <td>The `===` hack might be too much, would be cool if everyone else wants to just do the fancy `=~` operator and skip the `case` magic.</td>\n",
       "    </tr>\n",
       "  </tbody>\n",
       "</table>\n",
       "</div>"
      ],
      "text/plain": [
       "   topic  percentage  \\\n",
       "0  0      0.663131     \n",
       "1  0      0.940832     \n",
       "2  0      0.562591     \n",
       "3  0      0.853469     \n",
       "4  1      0.801363     \n",
       "5  3      0.810483     \n",
       "6  1      0.551327     \n",
       "7  3      0.458198     \n",
       "8  0      0.767361     \n",
       "9  2      0.910366     \n",
       "\n",
       "                                                                                                                                                                                                     comment  \n",
       "0  omnibus builds are already in pain so merging to fix those                                                                                                                                                 \n",
       "1  @chef/client-core reviewage (lets not think too hard about the breakpoint resource itself, i just picked it because its the shortest bit of provider code out there)                                       \n",
       "2  This blows up 14.04 because allow-downgrades is not supported there, so you'll need to figure out the first versions of ubuntu and debian that can safely support this and conditionally add the flag      \n",
       "3  I know @lamont-granquist and @thommay  are going to be unhappy about this one. This is absolutely a short term fix until we get choco on the windows jenkins nodes like it was before our system failure.  \n",
       "4  no, that's absolutely the right thing to do.                                                                                                                                                               \n",
       "5  ^ trailing comma is trolling you                                                                                                                                                                           \n",
       "6  Yolo link fixing                                                                                                                                                                                           \n",
       "7  Should https://github.com/chef/chef/pull/6156 get added too? i missed adding it to the release notes in my PR                                                                                              \n",
       "8  Might also be cool to do this for `node['platform_version']`, in the Ohai loading we could do something like `automatic['platform_version'] = VersionString.new(automatic['platform_version'])`.           \n",
       "9  The `===` hack might be too much, would be cool if everyone else wants to just do the fancy `=~` operator and skip the `case` magic.                                                                       "
      ]
     },
     "metadata": {},
     "output_type": "display_data"
    },
    {
     "name": "stdout",
     "output_type": "stream",
     "text": [
      "(0, '0.013*\"spring\" + 0.012*\"test\" + 0.011*\"think\" + 0.010*\"need\" + 0.009*\"project\"')\n",
      "(1, '0.011*\"look\" + 0.011*\"nice\" + 0.010*\"think\" + 0.010*\"case\" + 0.009*\"like\"')\n",
      "(2, '0.020*\"commit\" + 0.018*\"change\" + 0.013*\"method\" + 0.013*\"test\" + 0.012*\"class\"')\n",
      "(3, '0.051*\"thanks\" + 0.043*\"merge\" + 0.016*\"spring\" + 0.016*\"master\" + 0.013*\"hibernate\"')\n"
     ]
    }
   ],
   "source": [
    "commentsdf = comment_clusters(LDAmodel, data)\n",
    "display(commentsdf.head(10))\n",
    "topics = LDAmodel.print_topics(num_words=5)\n",
    "for topic in topics:\n",
    "    print(topic)"
   ]
  },
  {
   "cell_type": "markdown",
   "metadata": {},
   "source": [
    "A few things to note about the above commentsdf dataframe:\n",
    "1. I had originally filtered out comments that consisted of 0 or 1 tokens, so topics are not matched to those comments.\n",
    "2. The percentage score is the score of the topic number out of 100. Comments may contribute to 2 or more topics, but I chose to label them as the primary topic according to LDA analysis.\n",
    "3. A fullset of the keywords can be found in LDAmodel.print_topics.\n",
    "4. Summarizing the keywords into one descriptive topic is subjective."
   ]
  },
  {
   "cell_type": "markdown",
   "metadata": {},
   "source": [
    "# Word2Vec Model\n",
    "I didn't have much luck identifying common problems with the LDA approach, so I wanted to see if using Word2Vec similarity scores would give better results."
   ]
  },
  {
   "cell_type": "code",
   "execution_count": null,
   "metadata": {},
   "outputs": [],
   "source": [
    "#Ran into computing issues running this cell, so I used google colab to train the Word2Vec model.\n",
    "'''def get_w2v(comments):\n",
    "    all_comments = ' '.join(comments).lower()\n",
    "    all_comments = nlp(all_comments)\n",
    "    all_words = []\n",
    "    for sent in all_comments.sents:\n",
    "        sent = [token.lemma_ for token in sent if not token.is_stop and not token.is_punct]\n",
    "        all_words.append(sent)\n",
    "    return all_words\n",
    "\n",
    "all_words = get_w2v(df.comment)'''"
   ]
  },
  {
   "cell_type": "code",
   "execution_count": 420,
   "metadata": {},
   "outputs": [],
   "source": [
    "with open ('w2v.pkl', 'rb') as f:\n",
    "    w2v = pickle.load(f)"
   ]
  },
  {
   "cell_type": "code",
   "execution_count": 421,
   "metadata": {},
   "outputs": [
    {
     "data": {
      "text/plain": [
       "[('problem', 0.9998530149459839),\n",
       " ('have', 0.9998396635055542),\n",
       " ('comment', 0.99983149766922),\n",
       " ('commit', 0.9997595548629761),\n",
       " ('jira', 0.9997488856315613),\n",
       " ('will', 0.9997369647026062),\n",
       " ('work', 0.9997348785400391),\n",
       " ('go', 0.9997260570526123),\n",
       " ('fix', 0.9997238516807556),\n",
       " ('change', 0.999717116355896)]"
      ]
     },
     "execution_count": 421,
     "metadata": {},
     "output_type": "execute_result"
    }
   ],
   "source": [
    "w2v.wv.most_similar('issue')"
   ]
  },
  {
   "cell_type": "code",
   "execution_count": 422,
   "metadata": {},
   "outputs": [
    {
     "data": {
      "text/plain": [
       "[('@rwinch', 0.9998384714126587),\n",
       " ('ok', 0.9997606873512268),\n",
       " ('commit', 0.9997438788414001),\n",
       " ('issue', 0.9997237920761108),\n",
       " ('have', 0.9996683597564697),\n",
       " ('comment', 0.9996376633644104),\n",
       " ('push', 0.9996331930160522),\n",
       " ('look', 0.9996263384819031),\n",
       " ('great', 0.9995983242988586),\n",
       " ('feedback', 0.9995895624160767)]"
      ]
     },
     "execution_count": 422,
     "metadata": {},
     "output_type": "execute_result"
    }
   ],
   "source": [
    "w2v.wv.most_similar('fix')"
   ]
  },
  {
   "cell_type": "code",
   "execution_count": 423,
   "metadata": {
    "scrolled": true
   },
   "outputs": [
    {
     "data": {
      "text/plain": [
       "[('exception', 0.9998519420623779),\n",
       " ('result', 0.9998490214347839),\n",
       " ('operation', 0.9998372793197632),\n",
       " ('server', 0.9998345375061035),\n",
       " ('definition', 0.9998147487640381),\n",
       " ('resolve', 0.999809980392456),\n",
       " ('\\r\\n\\r\\n ', 0.9998070001602173),\n",
       " ('especially', 0.9998053908348083),\n",
       " ('performance', 0.9998053312301636),\n",
       " ('single', 0.9997991323471069)]"
      ]
     },
     "execution_count": 423,
     "metadata": {},
     "output_type": "execute_result"
    }
   ],
   "source": [
    "w2v.wv.most_similar('fail')"
   ]
  },
  {
   "cell_type": "code",
   "execution_count": 424,
   "metadata": {},
   "outputs": [
    {
     "data": {
      "text/plain": [
       "[('value', 0.996422290802002),\n",
       " ('field', 0.9963088035583496),\n",
       " ('use', 0.9960270524024963),\n",
       " ('type', 0.9959985017776489),\n",
       " ('index', 0.9959436058998108),\n",
       " ('case', 0.9959427118301392),\n",
       " ('default', 0.9958630800247192),\n",
       " ('implementation', 0.9958101511001587),\n",
       " ('set', 0.9958013296127319),\n",
       " ('not', 0.995721697807312)]"
      ]
     },
     "execution_count": 424,
     "metadata": {},
     "output_type": "execute_result"
    }
   ],
   "source": [
    "w2v.wv.most_similar(positive=['problem', 'fix'], negative=['thank'])"
   ]
  },
  {
   "cell_type": "markdown",
   "metadata": {},
   "source": [
    "The Word2Vec model gives decent synonyms for words from the most relevant list in the LDA model. I tried using words like \"issue\", or \"fix\" to find common problem, but the similarities mostly resulted in synonyms rather than problems they were describing. Words similar to \"fail\" like \"server\", \"performance\", \"exception\", and \"operation\" suggest that these are some potential problems that needed to be fixed."
   ]
  },
  {
   "cell_type": "markdown",
   "metadata": {},
   "source": [
    "# Resolution Time\n",
    "How long is the resolution time after a change was requested?  \n",
    "Assuming that the comment time was when the change was requested, we can look at only rows where there is a request for change and changes merged."
   ]
  },
  {
   "cell_type": "code",
   "execution_count": 425,
   "metadata": {},
   "outputs": [],
   "source": [
    "#Change date columns to datetime format\n",
    "df['merged_at'] = pd.to_datetime(df.merged_at)\n",
    "df['comment_date'] = pd.to_datetime(df.comment_date)"
   ]
  },
  {
   "cell_type": "code",
   "execution_count": 426,
   "metadata": {},
   "outputs": [
    {
     "name": "stderr",
     "output_type": "stream",
     "text": [
      "C:\\Users\\JChaotogo\\Anaconda\\lib\\site-packages\\ipykernel_launcher.py:2: SettingWithCopyWarning: \n",
      "A value is trying to be set on a copy of a slice from a DataFrame.\n",
      "Try using .loc[row_indexer,col_indexer] = value instead\n",
      "\n",
      "See the caveats in the documentation: http://pandas.pydata.org/pandas-docs/stable/indexing.html#indexing-view-versus-copy\n",
      "  \n"
     ]
    }
   ],
   "source": [
    "resolutiondf = df[(df.merged_at.isna()==False)&(df.is_merged==1.0)]\n",
    "resolutiondf['resolutiontime'] = resolutiondf['merged_at'] - resolutiondf['comment_date']"
   ]
  },
  {
   "cell_type": "code",
   "execution_count": 427,
   "metadata": {
    "scrolled": false
   },
   "outputs": [
    {
     "data": {
      "text/html": [
       "<div>\n",
       "<style scoped>\n",
       "    .dataframe tbody tr th:only-of-type {\n",
       "        vertical-align: middle;\n",
       "    }\n",
       "\n",
       "    .dataframe tbody tr th {\n",
       "        vertical-align: top;\n",
       "    }\n",
       "\n",
       "    .dataframe thead th {\n",
       "        text-align: right;\n",
       "    }\n",
       "</style>\n",
       "<table border=\"1\" class=\"dataframe\">\n",
       "  <thead>\n",
       "    <tr style=\"text-align: right;\">\n",
       "      <th></th>\n",
       "      <th>comment_date</th>\n",
       "      <th>is_merged</th>\n",
       "      <th>merged_at</th>\n",
       "      <th>resolutiontime</th>\n",
       "    </tr>\n",
       "  </thead>\n",
       "  <tbody>\n",
       "    <tr>\n",
       "      <th>24</th>\n",
       "      <td>2017-05-15 21:53:38</td>\n",
       "      <td>1.0</td>\n",
       "      <td>2017-05-16 08:59:50</td>\n",
       "      <td>11:06:12</td>\n",
       "    </tr>\n",
       "    <tr>\n",
       "      <th>27</th>\n",
       "      <td>2017-05-15 23:07:46</td>\n",
       "      <td>1.0</td>\n",
       "      <td>2017-05-16 08:59:50</td>\n",
       "      <td>09:52:04</td>\n",
       "    </tr>\n",
       "    <tr>\n",
       "      <th>410</th>\n",
       "      <td>2016-07-27 14:01:24</td>\n",
       "      <td>1.0</td>\n",
       "      <td>2016-07-27 20:59:27</td>\n",
       "      <td>06:58:03</td>\n",
       "    </tr>\n",
       "    <tr>\n",
       "      <th>411</th>\n",
       "      <td>2016-07-27 13:58:10</td>\n",
       "      <td>1.0</td>\n",
       "      <td>2016-07-27 20:59:27</td>\n",
       "      <td>07:01:17</td>\n",
       "    </tr>\n",
       "    <tr>\n",
       "      <th>412</th>\n",
       "      <td>2016-07-27 13:58:48</td>\n",
       "      <td>1.0</td>\n",
       "      <td>2016-07-27 20:59:27</td>\n",
       "      <td>07:00:39</td>\n",
       "    </tr>\n",
       "  </tbody>\n",
       "</table>\n",
       "</div>"
      ],
      "text/plain": [
       "           comment_date  is_merged           merged_at resolutiontime\n",
       "24  2017-05-15 21:53:38  1.0       2017-05-16 08:59:50 11:06:12      \n",
       "27  2017-05-15 23:07:46  1.0       2017-05-16 08:59:50 09:52:04      \n",
       "410 2016-07-27 14:01:24  1.0       2016-07-27 20:59:27 06:58:03      \n",
       "411 2016-07-27 13:58:10  1.0       2016-07-27 20:59:27 07:01:17      \n",
       "412 2016-07-27 13:58:48  1.0       2016-07-27 20:59:27 07:00:39      "
      ]
     },
     "execution_count": 427,
     "metadata": {},
     "output_type": "execute_result"
    }
   ],
   "source": [
    "resolutiondf[resolutiondf.request_changes>0][['comment_date', 'is_merged', 'merged_at', 'resolutiontime']].head()"
   ]
  },
  {
   "cell_type": "markdown",
   "metadata": {},
   "source": [
    "Above we have a dataframe of all change requests that were resolved. It is interesting to note that there are some negative values for resolution time. This can be caused by either a time-zone difference or an error in recording the data. Without more information, I can't be sure which one.  \n",
    "\n",
    "Below is a barplot of resolution times grouped into under 1 day, 1-7 days, and 1 week+"
   ]
  },
  {
   "cell_type": "code",
   "execution_count": 428,
   "metadata": {
    "scrolled": false
   },
   "outputs": [
    {
     "name": "stderr",
     "output_type": "stream",
     "text": [
      "C:\\Users\\JChaotogo\\Anaconda\\lib\\site-packages\\ipykernel_launcher.py:12: SettingWithCopyWarning: \n",
      "A value is trying to be set on a copy of a slice from a DataFrame.\n",
      "Try using .loc[row_indexer,col_indexer] = value instead\n",
      "\n",
      "See the caveats in the documentation: http://pandas.pydata.org/pandas-docs/stable/indexing.html#indexing-view-versus-copy\n",
      "  if sys.path[0] == '':\n"
     ]
    },
    {
     "data": {
      "image/png": "[encoded data removed]",
      "text/plain": [
       "<Figure size 1080x504 with 1 Axes>"
      ]
     },
     "metadata": {},
     "output_type": "display_data"
    }
   ],
   "source": [
    "#Because the nature of the negative times is ambiguous, I'm going to just exclude them from the analysis.\n",
    "plot_res_times = resolutiondf[(resolutiondf.request_changes>0)&(resolutiondf.resolutiontime > pd.Timedelta('1 second'))]\n",
    "\n",
    "def get_time_group(x):\n",
    "    if x < pd.Timedelta('1 day'):\n",
    "        return 'Under 1 day'\n",
    "    elif x <  pd.Timedelta('7 days'):\n",
    "        return '1-7 days'\n",
    "    else:\n",
    "        return '1 week+'\n",
    "\n",
    "plot_res_times['time_group'] = plot_res_times['resolutiontime'].apply(lambda x: get_time_group(x))\n",
    "plt.figure(figsize=(15,7))\n",
    "sns.countplot(plot_res_times['time_group'], palette='rainbow')\n",
    "plt.title('Merge Resolution Time')\n",
    "plt.show()"
   ]
  },
  {
   "cell_type": "code",
   "execution_count": 429,
   "metadata": {
    "scrolled": true
   },
   "outputs": [
    {
     "data": {
      "text/html": [
       "<div>\n",
       "<style scoped>\n",
       "    .dataframe tbody tr th:only-of-type {\n",
       "        vertical-align: middle;\n",
       "    }\n",
       "\n",
       "    .dataframe tbody tr th {\n",
       "        vertical-align: top;\n",
       "    }\n",
       "\n",
       "    .dataframe thead th {\n",
       "        text-align: right;\n",
       "    }\n",
       "</style>\n",
       "<table border=\"1\" class=\"dataframe\">\n",
       "  <thead>\n",
       "    <tr style=\"text-align: right;\">\n",
       "      <th></th>\n",
       "      <th>resolutiontime</th>\n",
       "    </tr>\n",
       "  </thead>\n",
       "  <tbody>\n",
       "    <tr>\n",
       "      <th>count</th>\n",
       "      <td>910</td>\n",
       "    </tr>\n",
       "    <tr>\n",
       "      <th>mean</th>\n",
       "      <td>3 days 09:53:32.282417</td>\n",
       "    </tr>\n",
       "    <tr>\n",
       "      <th>std</th>\n",
       "      <td>13 days 04:05:17.985569</td>\n",
       "    </tr>\n",
       "    <tr>\n",
       "      <th>min</th>\n",
       "      <td>0 days 00:00:13</td>\n",
       "    </tr>\n",
       "    <tr>\n",
       "      <th>25%</th>\n",
       "      <td>0 days 02:26:55.250000</td>\n",
       "    </tr>\n",
       "    <tr>\n",
       "      <th>50%</th>\n",
       "      <td>0 days 12:51:50</td>\n",
       "    </tr>\n",
       "    <tr>\n",
       "      <th>75%</th>\n",
       "      <td>1 days 23:09:32.750000</td>\n",
       "    </tr>\n",
       "    <tr>\n",
       "      <th>max</th>\n",
       "      <td>144 days 03:09:26</td>\n",
       "    </tr>\n",
       "  </tbody>\n",
       "</table>\n",
       "</div>"
      ],
      "text/plain": [
       "                resolutiontime\n",
       "count  910                    \n",
       "mean   3 days 09:53:32.282417 \n",
       "std    13 days 04:05:17.985569\n",
       "min    0 days 00:00:13        \n",
       "25%    0 days 02:26:55.250000 \n",
       "50%    0 days 12:51:50        \n",
       "75%    1 days 23:09:32.750000 \n",
       "max    144 days 03:09:26      "
      ]
     },
     "execution_count": 429,
     "metadata": {},
     "output_type": "execute_result"
    }
   ],
   "source": [
    "#Description of time from comment to merge even if a change was not requested.\n",
    "resolutiondf[resolutiondf.resolutiontime>pd.Timedelta('1 second')][['resolutiontime']].describe()"
   ]
  },
  {
   "cell_type": "code",
   "execution_count": 430,
   "metadata": {},
   "outputs": [
    {
     "data": {
      "text/html": [
       "<div>\n",
       "<style scoped>\n",
       "    .dataframe tbody tr th:only-of-type {\n",
       "        vertical-align: middle;\n",
       "    }\n",
       "\n",
       "    .dataframe tbody tr th {\n",
       "        vertical-align: top;\n",
       "    }\n",
       "\n",
       "    .dataframe thead th {\n",
       "        text-align: right;\n",
       "    }\n",
       "</style>\n",
       "<table border=\"1\" class=\"dataframe\">\n",
       "  <thead>\n",
       "    <tr style=\"text-align: right;\">\n",
       "      <th></th>\n",
       "      <th>resolutiontime</th>\n",
       "    </tr>\n",
       "  </thead>\n",
       "  <tbody>\n",
       "    <tr>\n",
       "      <th>count</th>\n",
       "      <td>277</td>\n",
       "    </tr>\n",
       "    <tr>\n",
       "      <th>mean</th>\n",
       "      <td>3 days 20:38:05.259927</td>\n",
       "    </tr>\n",
       "    <tr>\n",
       "      <th>std</th>\n",
       "      <td>15 days 13:39:09.316876</td>\n",
       "    </tr>\n",
       "    <tr>\n",
       "      <th>min</th>\n",
       "      <td>0 days 00:01:29</td>\n",
       "    </tr>\n",
       "    <tr>\n",
       "      <th>25%</th>\n",
       "      <td>0 days 02:47:51</td>\n",
       "    </tr>\n",
       "    <tr>\n",
       "      <th>50%</th>\n",
       "      <td>0 days 14:18:21</td>\n",
       "    </tr>\n",
       "    <tr>\n",
       "      <th>75%</th>\n",
       "      <td>1 days 20:36:08</td>\n",
       "    </tr>\n",
       "    <tr>\n",
       "      <th>max</th>\n",
       "      <td>144 days 03:09:26</td>\n",
       "    </tr>\n",
       "  </tbody>\n",
       "</table>\n",
       "</div>"
      ],
      "text/plain": [
       "                resolutiontime\n",
       "count  277                    \n",
       "mean   3 days 20:38:05.259927 \n",
       "std    15 days 13:39:09.316876\n",
       "min    0 days 00:01:29        \n",
       "25%    0 days 02:47:51        \n",
       "50%    0 days 14:18:21        \n",
       "75%    1 days 20:36:08        \n",
       "max    144 days 03:09:26      "
      ]
     },
     "execution_count": 430,
     "metadata": {},
     "output_type": "execute_result"
    }
   ],
   "source": [
    "#Resolution time from comment time to merge time for request changes.\n",
    "plot_res_times[['resolutiontime']].describe()"
   ]
  },
  {
   "cell_type": "markdown",
   "metadata": {},
   "source": [
    "**What are the most common problems that appear in these comments?**    \n",
    "I had trouble finding the most common problems, but from using LDA I was able to seperate out keywords that I used to subjectively describe a topic. Using Word2Vec similarity scores, I found that there might be potential problems with implementation or server issues.  \n",
    "**Can we cluster the problems by topic/problem type?**  \n",
    "I was able to create 4 clusters using LDA. I assigned topic labels with the dominant percentage to each of the comments.  \n",
    "**How long is the resolution time after a change was requested?**  \n",
    "The median resolution time after a change was requested is 14 hours 18 minutes and 21 seconds. Some requests were merged even without a change request.  \n",
    "\n",
    "\n",
    "## Conclusion\n",
    "Evaluating and comparing different models is extremely important, especially in unsupervised datasets. I wasn't able to objectively compare topics with labels, so I evaluated them mostly subjectively. I found that the topic keywords in the LDA model were related, but there was some overlap on certain keywords that threw me off. Of the comments that I manually inspected, I felt that about half were closely related to the topic description that I chose. The small size of each comment may also contribute to inconsistencies in LDA topics.\n",
    "\n",
    "Visual Inspection of the Word2Vec model suggests strong performance, but I wasn't able to get much information as to the common problems. However, the results did suggest potential problems with implementaion or server issues at some point.  \n",
    "\n",
    "I calculated the resolution times by subtracting the comment_date datetime from the merged_at datetime. Most changes were completed within hours with the median value being around 14 hours. One challenge I ran into calculalting the time it took to resolve a request, was that some merge times occured before the comment was made. This may potentially be due to a time-zone difference or a data entry error. For the majority of my analysis, I decided to ignore these entries."
   ]
  },
  {
   "cell_type": "code",
   "execution_count": null,
   "metadata": {},
   "outputs": [],
   "source": []
  }
 ],
 "metadata": {
  "kernelspec": {
   "display_name": "Python 3",
   "language": "python",
   "name": "python3"
  },
  "language_info": {
   "codemirror_mode": {
    "name": "ipython",
    "version": 3
   },
   "file_extension": ".py",
   "mimetype": "text/x-python",
   "name": "python",
   "nbconvert_exporter": "python",
   "pygments_lexer": "ipython3",
   "version": "3.7.2"
  }
 },
 "nbformat": 4,
 "nbformat_minor": 2
}
